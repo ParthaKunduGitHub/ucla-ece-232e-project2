{
  "cells": [
    {
      "cell_type": "code",
      "execution_count": 1,
      "metadata": {
        "colab": {
          "base_uri": "https://localhost:8080/"
        },
        "id": "nbRz4Bpylo-d",
        "outputId": "c1f96ea6-7a54-4f92-89f6-995cb23cb2ec"
      },
      "outputs": [
        {
          "name": "stdout",
          "output_type": "stream",
          "text": [
            "Collecting spektral\n",
            "  Downloading spektral-1.3.1-py3-none-any.whl.metadata (5.9 kB)\n",
            "Requirement already satisfied: joblib in /Users/parthakundu/GitHub/ece219-project1-papaymaguire/.venv/lib/python3.12/site-packages (from spektral) (1.4.0)\n",
            "Collecting lxml (from spektral)\n",
            "  Downloading lxml-5.2.2-cp312-cp312-macosx_10_9_universal2.whl.metadata (3.4 kB)\n",
            "Requirement already satisfied: networkx in /Users/parthakundu/GitHub/ece219-project1-papaymaguire/.venv/lib/python3.12/site-packages (from spektral) (3.3)\n",
            "Requirement already satisfied: numpy in /Users/parthakundu/GitHub/ece219-project1-papaymaguire/.venv/lib/python3.12/site-packages (from spektral) (1.26.4)\n",
            "Requirement already satisfied: pandas in /Users/parthakundu/GitHub/ece219-project1-papaymaguire/.venv/lib/python3.12/site-packages (from spektral) (2.2.2)\n",
            "Requirement already satisfied: requests in /Users/parthakundu/GitHub/ece219-project1-papaymaguire/.venv/lib/python3.12/site-packages (from spektral) (2.32.3)\n",
            "Requirement already satisfied: scikit-learn in /Users/parthakundu/GitHub/ece219-project1-papaymaguire/.venv/lib/python3.12/site-packages (from spektral) (1.4.2)\n",
            "Requirement already satisfied: scipy in /Users/parthakundu/GitHub/ece219-project1-papaymaguire/.venv/lib/python3.12/site-packages (from spektral) (1.13.0)\n",
            "Requirement already satisfied: tqdm in /Users/parthakundu/GitHub/ece219-project1-papaymaguire/.venv/lib/python3.12/site-packages (from spektral) (4.66.4)\n",
            "Collecting tensorflow-macos>=2.5.0 (from spektral)\n",
            "  Downloading tensorflow_macos-2.16.2-cp312-cp312-macosx_12_0_arm64.whl.metadata (3.3 kB)\n",
            "Collecting tensorflow==2.16.2 (from tensorflow-macos>=2.5.0->spektral)\n",
            "  Downloading tensorflow-2.16.2-cp312-cp312-macosx_12_0_arm64.whl.metadata (4.1 kB)\n",
            "Collecting absl-py>=1.0.0 (from tensorflow==2.16.2->tensorflow-macos>=2.5.0->spektral)\n",
            "  Downloading absl_py-2.1.0-py3-none-any.whl.metadata (2.3 kB)\n",
            "Collecting astunparse>=1.6.0 (from tensorflow==2.16.2->tensorflow-macos>=2.5.0->spektral)\n",
            "  Downloading astunparse-1.6.3-py2.py3-none-any.whl.metadata (4.4 kB)\n",
            "Collecting flatbuffers>=23.5.26 (from tensorflow==2.16.2->tensorflow-macos>=2.5.0->spektral)\n",
            "  Downloading flatbuffers-24.3.25-py2.py3-none-any.whl.metadata (850 bytes)\n",
            "Collecting gast!=0.5.0,!=0.5.1,!=0.5.2,>=0.2.1 (from tensorflow==2.16.2->tensorflow-macos>=2.5.0->spektral)\n",
            "  Downloading gast-0.6.0-py3-none-any.whl.metadata (1.3 kB)\n",
            "Collecting google-pasta>=0.1.1 (from tensorflow==2.16.2->tensorflow-macos>=2.5.0->spektral)\n",
            "  Downloading google_pasta-0.2.0-py3-none-any.whl.metadata (814 bytes)\n",
            "Collecting h5py>=3.10.0 (from tensorflow==2.16.2->tensorflow-macos>=2.5.0->spektral)\n",
            "  Downloading h5py-3.11.0-cp312-cp312-macosx_11_0_arm64.whl.metadata (2.5 kB)\n",
            "Collecting libclang>=13.0.0 (from tensorflow==2.16.2->tensorflow-macos>=2.5.0->spektral)\n",
            "  Downloading libclang-18.1.1-1-py2.py3-none-macosx_11_0_arm64.whl.metadata (5.2 kB)\n",
            "Collecting ml-dtypes~=0.3.1 (from tensorflow==2.16.2->tensorflow-macos>=2.5.0->spektral)\n",
            "  Downloading ml_dtypes-0.3.2-cp312-cp312-macosx_10_9_universal2.whl.metadata (20 kB)\n",
            "Collecting opt-einsum>=2.3.2 (from tensorflow==2.16.2->tensorflow-macos>=2.5.0->spektral)\n",
            "  Downloading opt_einsum-3.3.0-py3-none-any.whl.metadata (6.5 kB)\n",
            "Requirement already satisfied: packaging in /Users/parthakundu/GitHub/ece219-project1-papaymaguire/.venv/lib/python3.12/site-packages (from tensorflow==2.16.2->tensorflow-macos>=2.5.0->spektral) (24.0)\n",
            "Requirement already satisfied: protobuf!=4.21.0,!=4.21.1,!=4.21.2,!=4.21.3,!=4.21.4,!=4.21.5,<5.0.0dev,>=3.20.3 in /Users/parthakundu/GitHub/ece219-project1-papaymaguire/.venv/lib/python3.12/site-packages (from tensorflow==2.16.2->tensorflow-macos>=2.5.0->spektral) (4.25.3)\n",
            "Requirement already satisfied: setuptools in /Users/parthakundu/GitHub/ece219-project1-papaymaguire/.venv/lib/python3.12/site-packages (from tensorflow==2.16.2->tensorflow-macos>=2.5.0->spektral) (69.5.1)\n",
            "Requirement already satisfied: six>=1.12.0 in /Users/parthakundu/GitHub/ece219-project1-papaymaguire/.venv/lib/python3.12/site-packages (from tensorflow==2.16.2->tensorflow-macos>=2.5.0->spektral) (1.16.0)\n",
            "Collecting termcolor>=1.1.0 (from tensorflow==2.16.2->tensorflow-macos>=2.5.0->spektral)\n",
            "  Downloading termcolor-2.4.0-py3-none-any.whl.metadata (6.1 kB)\n",
            "Requirement already satisfied: typing-extensions>=3.6.6 in /Users/parthakundu/GitHub/ece219-project1-papaymaguire/.venv/lib/python3.12/site-packages (from tensorflow==2.16.2->tensorflow-macos>=2.5.0->spektral) (4.11.0)\n",
            "Collecting wrapt>=1.11.0 (from tensorflow==2.16.2->tensorflow-macos>=2.5.0->spektral)\n",
            "  Downloading wrapt-1.16.0-cp312-cp312-macosx_11_0_arm64.whl.metadata (6.6 kB)\n",
            "Requirement already satisfied: grpcio<2.0,>=1.24.3 in /Users/parthakundu/GitHub/ece219-project1-papaymaguire/.venv/lib/python3.12/site-packages (from tensorflow==2.16.2->tensorflow-macos>=2.5.0->spektral) (1.62.2)\n",
            "Collecting tensorboard<2.17,>=2.16 (from tensorflow==2.16.2->tensorflow-macos>=2.5.0->spektral)\n",
            "  Downloading tensorboard-2.16.2-py3-none-any.whl.metadata (1.6 kB)\n",
            "Collecting keras>=3.0.0 (from tensorflow==2.16.2->tensorflow-macos>=2.5.0->spektral)\n",
            "  Downloading keras-3.4.1-py3-none-any.whl.metadata (5.8 kB)\n",
            "Requirement already satisfied: charset-normalizer<4,>=2 in /Users/parthakundu/GitHub/ece219-project1-papaymaguire/.venv/lib/python3.12/site-packages (from requests->spektral) (3.3.2)\n",
            "Requirement already satisfied: idna<4,>=2.5 in /Users/parthakundu/GitHub/ece219-project1-papaymaguire/.venv/lib/python3.12/site-packages (from requests->spektral) (3.7)\n",
            "Requirement already satisfied: urllib3<3,>=1.21.1 in /Users/parthakundu/GitHub/ece219-project1-papaymaguire/.venv/lib/python3.12/site-packages (from requests->spektral) (2.2.1)\n",
            "Requirement already satisfied: certifi>=2017.4.17 in /Users/parthakundu/GitHub/ece219-project1-papaymaguire/.venv/lib/python3.12/site-packages (from requests->spektral) (2024.2.2)\n",
            "Requirement already satisfied: python-dateutil>=2.8.2 in /Users/parthakundu/GitHub/ece219-project1-papaymaguire/.venv/lib/python3.12/site-packages (from pandas->spektral) (2.9.0.post0)\n",
            "Requirement already satisfied: pytz>=2020.1 in /Users/parthakundu/GitHub/ece219-project1-papaymaguire/.venv/lib/python3.12/site-packages (from pandas->spektral) (2024.1)\n",
            "Requirement already satisfied: tzdata>=2022.7 in /Users/parthakundu/GitHub/ece219-project1-papaymaguire/.venv/lib/python3.12/site-packages (from pandas->spektral) (2024.1)\n",
            "Requirement already satisfied: threadpoolctl>=2.0.0 in /Users/parthakundu/GitHub/ece219-project1-papaymaguire/.venv/lib/python3.12/site-packages (from scikit-learn->spektral) (3.4.0)\n",
            "Collecting wheel<1.0,>=0.23.0 (from astunparse>=1.6.0->tensorflow==2.16.2->tensorflow-macos>=2.5.0->spektral)\n",
            "  Using cached wheel-0.43.0-py3-none-any.whl.metadata (2.2 kB)\n",
            "Requirement already satisfied: rich in /Users/parthakundu/GitHub/ece219-project1-papaymaguire/.venv/lib/python3.12/site-packages (from keras>=3.0.0->tensorflow==2.16.2->tensorflow-macos>=2.5.0->spektral) (13.7.1)\n",
            "Collecting namex (from keras>=3.0.0->tensorflow==2.16.2->tensorflow-macos>=2.5.0->spektral)\n",
            "  Downloading namex-0.0.8-py3-none-any.whl.metadata (246 bytes)\n",
            "Collecting optree (from keras>=3.0.0->tensorflow==2.16.2->tensorflow-macos>=2.5.0->spektral)\n",
            "  Downloading optree-0.12.1-cp312-cp312-macosx_11_0_arm64.whl.metadata (47 kB)\n",
            "\u001b[2K     \u001b[90m━━━━━━━━━━━━━━━━━━━━━━━━━━━━━━━━━━━━━━━━\u001b[0m \u001b[32m47.8/47.8 kB\u001b[0m \u001b[31m1.4 MB/s\u001b[0m eta \u001b[36m0:00:00\u001b[0m\n",
            "\u001b[?25hCollecting markdown>=2.6.8 (from tensorboard<2.17,>=2.16->tensorflow==2.16.2->tensorflow-macos>=2.5.0->spektral)\n",
            "  Downloading Markdown-3.6-py3-none-any.whl.metadata (7.0 kB)\n",
            "Collecting tensorboard-data-server<0.8.0,>=0.7.0 (from tensorboard<2.17,>=2.16->tensorflow==2.16.2->tensorflow-macos>=2.5.0->spektral)\n",
            "  Downloading tensorboard_data_server-0.7.2-py3-none-any.whl.metadata (1.1 kB)\n",
            "Collecting werkzeug>=1.0.1 (from tensorboard<2.17,>=2.16->tensorflow==2.16.2->tensorflow-macos>=2.5.0->spektral)\n",
            "  Downloading werkzeug-3.0.3-py3-none-any.whl.metadata (3.7 kB)\n",
            "Requirement already satisfied: MarkupSafe>=2.1.1 in /Users/parthakundu/GitHub/ece219-project1-papaymaguire/.venv/lib/python3.12/site-packages (from werkzeug>=1.0.1->tensorboard<2.17,>=2.16->tensorflow==2.16.2->tensorflow-macos>=2.5.0->spektral) (2.1.5)\n",
            "Requirement already satisfied: markdown-it-py>=2.2.0 in /Users/parthakundu/GitHub/ece219-project1-papaymaguire/.venv/lib/python3.12/site-packages (from rich->keras>=3.0.0->tensorflow==2.16.2->tensorflow-macos>=2.5.0->spektral) (3.0.0)\n",
            "Requirement already satisfied: pygments<3.0.0,>=2.13.0 in /Users/parthakundu/GitHub/ece219-project1-papaymaguire/.venv/lib/python3.12/site-packages (from rich->keras>=3.0.0->tensorflow==2.16.2->tensorflow-macos>=2.5.0->spektral) (2.17.2)\n",
            "Requirement already satisfied: mdurl~=0.1 in /Users/parthakundu/GitHub/ece219-project1-papaymaguire/.venv/lib/python3.12/site-packages (from markdown-it-py>=2.2.0->rich->keras>=3.0.0->tensorflow==2.16.2->tensorflow-macos>=2.5.0->spektral) (0.1.2)\n",
            "Downloading spektral-1.3.1-py3-none-any.whl (140 kB)\n",
            "\u001b[2K   \u001b[90m━━━━━━━━━━━━━━━━━━━━━━━━━━━━━━━━━━━━━━━━\u001b[0m \u001b[32m140.1/140.1 kB\u001b[0m \u001b[31m1.1 MB/s\u001b[0m eta \u001b[36m0:00:00\u001b[0m \u001b[36m0:00:01\u001b[0m0m\n",
            "\u001b[?25hDownloading tensorflow_macos-2.16.2-cp312-cp312-macosx_12_0_arm64.whl (2.1 kB)\n",
            "Downloading tensorflow-2.16.2-cp312-cp312-macosx_12_0_arm64.whl (227.1 MB)\n",
            "\u001b[2K   \u001b[90m━━━━━━━━━━━━━━━━━━━━━━━━━━━━━━━━━━━━━━━\u001b[0m \u001b[32m227.1/227.1 MB\u001b[0m \u001b[31m618.6 kB/s\u001b[0m eta \u001b[36m0:00:00\u001b[0m00:01\u001b[0m00:10\u001b[0m\n",
            "\u001b[?25hDownloading lxml-5.2.2-cp312-cp312-macosx_10_9_universal2.whl (8.2 MB)\n",
            "\u001b[2K   \u001b[90m━━━━━━━━━━━━━━━━━━━━━━━━━━━━━━━━━━━━━━━━\u001b[0m \u001b[32m8.2/8.2 MB\u001b[0m \u001b[31m655.6 kB/s\u001b[0m eta \u001b[36m0:00:00\u001b[0m00:01\u001b[0m00:01\u001b[0m\n",
            "\u001b[?25hDownloading absl_py-2.1.0-py3-none-any.whl (133 kB)\n",
            "\u001b[2K   \u001b[90m━━━━━━━━━━━━━━━━━━━━━━━━━━━━━━━━━━━━━━━━\u001b[0m \u001b[32m133.7/133.7 kB\u001b[0m \u001b[31m2.4 MB/s\u001b[0m eta \u001b[36m0:00:00\u001b[0m \u001b[36m0:00:01\u001b[0m\n",
            "\u001b[?25hDownloading astunparse-1.6.3-py2.py3-none-any.whl (12 kB)\n",
            "Downloading flatbuffers-24.3.25-py2.py3-none-any.whl (26 kB)\n",
            "Downloading gast-0.6.0-py3-none-any.whl (21 kB)\n",
            "Downloading google_pasta-0.2.0-py3-none-any.whl (57 kB)\n",
            "\u001b[2K   \u001b[90m━━━━━━━━━━━━━━━━━━━━━━━━━━━━━━━━━━━━━━━━\u001b[0m \u001b[32m57.5/57.5 kB\u001b[0m \u001b[31m3.4 MB/s\u001b[0m eta \u001b[36m0:00:00\u001b[0m\n",
            "\u001b[?25hDownloading h5py-3.11.0-cp312-cp312-macosx_11_0_arm64.whl (2.9 MB)\n",
            "\u001b[2K   \u001b[90m━━━━━━━━━━━━━━━━━━━━━━━━━━━━━━━━━━━━━━━━\u001b[0m \u001b[32m2.9/2.9 MB\u001b[0m \u001b[31m581.5 kB/s\u001b[0m eta \u001b[36m0:00:00\u001b[0m00:01\u001b[0m00:01\u001b[0m\n",
            "\u001b[?25hDownloading keras-3.4.1-py3-none-any.whl (1.1 MB)\n",
            "\u001b[2K   \u001b[90m━━━━━━━━━━━━━━━━━━━━━━━━━━━━━━━━━━━━━━━━\u001b[0m \u001b[32m1.1/1.1 MB\u001b[0m \u001b[31m911.7 kB/s\u001b[0m eta \u001b[36m0:00:00\u001b[0m00:01\u001b[0m00:01\u001b[0m\n",
            "\u001b[?25hDownloading libclang-18.1.1-1-py2.py3-none-macosx_11_0_arm64.whl (25.8 MB)\n",
            "\u001b[2K   \u001b[90m━━━━━━━━━━━━━━━━━━━━━━━━━━━━━━━━━━━━━━━━\u001b[0m \u001b[32m25.8/25.8 MB\u001b[0m \u001b[31m630.4 kB/s\u001b[0m eta \u001b[36m0:00:00\u001b[0m00:01\u001b[0m00:01\u001b[0m\n",
            "\u001b[?25hDownloading ml_dtypes-0.3.2-cp312-cp312-macosx_10_9_universal2.whl (393 kB)\n",
            "\u001b[2K   \u001b[90m━━━━━━━━━━━━━━━━━━━━━━━━━━━━━━━━━━━━━━━\u001b[0m \u001b[32m393.6/393.6 kB\u001b[0m \u001b[31m678.9 kB/s\u001b[0m eta \u001b[36m0:00:00\u001b[0ma \u001b[36m0:00:01\u001b[0m\n",
            "\u001b[?25hDownloading opt_einsum-3.3.0-py3-none-any.whl (65 kB)\n",
            "\u001b[2K   \u001b[90m━━━━━━━━━━━━━━━━━━━━━━━━━━━━━━━━━━━━━━━━\u001b[0m \u001b[32m65.5/65.5 kB\u001b[0m \u001b[31m1.3 MB/s\u001b[0m eta \u001b[36m0:00:00\u001b[0ma \u001b[36m0:00:01\u001b[0m\n",
            "\u001b[?25hDownloading tensorboard-2.16.2-py3-none-any.whl (5.5 MB)\n",
            "\u001b[2K   \u001b[90m━━━━━━━━━━━━━━━━━━━━━━━━━━━━━━━━━━━━━━━━\u001b[0m \u001b[32m5.5/5.5 MB\u001b[0m \u001b[31m648.9 kB/s\u001b[0m eta \u001b[36m0:00:00\u001b[0m00:01\u001b[0m00:01\u001b[0m\n",
            "\u001b[?25hDownloading termcolor-2.4.0-py3-none-any.whl (7.7 kB)\n",
            "Downloading wrapt-1.16.0-cp312-cp312-macosx_11_0_arm64.whl (38 kB)\n",
            "Downloading Markdown-3.6-py3-none-any.whl (105 kB)\n",
            "\u001b[2K   \u001b[90m━━━━━━━━━━━━━━━━━━━━━━━━━━━━━━━━━━━━━━━\u001b[0m \u001b[32m105.4/105.4 kB\u001b[0m \u001b[31m795.5 kB/s\u001b[0m eta \u001b[36m0:00:00\u001b[0ma \u001b[36m0:00:01\u001b[0m\n",
            "\u001b[?25hDownloading tensorboard_data_server-0.7.2-py3-none-any.whl (2.4 kB)\n",
            "Downloading werkzeug-3.0.3-py3-none-any.whl (227 kB)\n",
            "\u001b[2K   \u001b[90m━━━━━━━━━━━━━━━━━━━━━━━━━━━━━━━━━━━━━━━\u001b[0m \u001b[32m227.3/227.3 kB\u001b[0m \u001b[31m297.3 kB/s\u001b[0m eta \u001b[36m0:00:00\u001b[0m00:01\u001b[0m00:01\u001b[0m\n",
            "\u001b[?25hUsing cached wheel-0.43.0-py3-none-any.whl (65 kB)\n",
            "Downloading namex-0.0.8-py3-none-any.whl (5.8 kB)\n",
            "Downloading optree-0.12.1-cp312-cp312-macosx_11_0_arm64.whl (284 kB)\n",
            "\u001b[2K   \u001b[90m━━━━━━━━━━━━━━━━━━━━━━━━━━━━━━━━━━━━━━━━\u001b[0m \u001b[32m284.9/284.9 kB\u001b[0m \u001b[31m1.4 MB/s\u001b[0m eta \u001b[36m0:00:00\u001b[0ma \u001b[36m0:00:01\u001b[0m\n",
            "\u001b[?25hInstalling collected packages: namex, libclang, flatbuffers, wrapt, wheel, werkzeug, termcolor, tensorboard-data-server, optree, opt-einsum, ml-dtypes, markdown, lxml, h5py, google-pasta, gast, absl-py, tensorboard, astunparse, keras, tensorflow, tensorflow-macos, spektral\n",
            "Successfully installed absl-py-2.1.0 astunparse-1.6.3 flatbuffers-24.3.25 gast-0.6.0 google-pasta-0.2.0 h5py-3.11.0 keras-3.4.1 libclang-18.1.1 lxml-5.2.2 markdown-3.6 ml-dtypes-0.3.2 namex-0.0.8 opt-einsum-3.3.0 optree-0.12.1 spektral-1.3.1 tensorboard-2.16.2 tensorboard-data-server-0.7.2 tensorflow-2.16.2 tensorflow-macos-2.16.2 termcolor-2.4.0 werkzeug-3.0.3 wheel-0.43.0 wrapt-1.16.0\n",
            "Requirement already satisfied: Keras in /Users/parthakundu/GitHub/ece219-project1-papaymaguire/.venv/lib/python3.12/site-packages (3.4.1)\n",
            "Requirement already satisfied: absl-py in /Users/parthakundu/GitHub/ece219-project1-papaymaguire/.venv/lib/python3.12/site-packages (from Keras) (2.1.0)\n",
            "Requirement already satisfied: numpy in /Users/parthakundu/GitHub/ece219-project1-papaymaguire/.venv/lib/python3.12/site-packages (from Keras) (1.26.4)\n",
            "Requirement already satisfied: rich in /Users/parthakundu/GitHub/ece219-project1-papaymaguire/.venv/lib/python3.12/site-packages (from Keras) (13.7.1)\n",
            "Requirement already satisfied: namex in /Users/parthakundu/GitHub/ece219-project1-papaymaguire/.venv/lib/python3.12/site-packages (from Keras) (0.0.8)\n",
            "Requirement already satisfied: h5py in /Users/parthakundu/GitHub/ece219-project1-papaymaguire/.venv/lib/python3.12/site-packages (from Keras) (3.11.0)\n",
            "Requirement already satisfied: optree in /Users/parthakundu/GitHub/ece219-project1-papaymaguire/.venv/lib/python3.12/site-packages (from Keras) (0.12.1)\n",
            "Requirement already satisfied: ml-dtypes in /Users/parthakundu/GitHub/ece219-project1-papaymaguire/.venv/lib/python3.12/site-packages (from Keras) (0.3.2)\n",
            "Requirement already satisfied: packaging in /Users/parthakundu/GitHub/ece219-project1-papaymaguire/.venv/lib/python3.12/site-packages (from Keras) (24.0)\n",
            "Requirement already satisfied: typing-extensions>=4.5.0 in /Users/parthakundu/GitHub/ece219-project1-papaymaguire/.venv/lib/python3.12/site-packages (from optree->Keras) (4.11.0)\n",
            "Requirement already satisfied: markdown-it-py>=2.2.0 in /Users/parthakundu/GitHub/ece219-project1-papaymaguire/.venv/lib/python3.12/site-packages (from rich->Keras) (3.0.0)\n",
            "Requirement already satisfied: pygments<3.0.0,>=2.13.0 in /Users/parthakundu/GitHub/ece219-project1-papaymaguire/.venv/lib/python3.12/site-packages (from rich->Keras) (2.17.2)\n",
            "Requirement already satisfied: mdurl~=0.1 in /Users/parthakundu/GitHub/ece219-project1-papaymaguire/.venv/lib/python3.12/site-packages (from markdown-it-py>=2.2.0->rich->Keras) (0.1.2)\n",
            "Requirement already satisfied: tensorflow in /Users/parthakundu/GitHub/ece219-project1-papaymaguire/.venv/lib/python3.12/site-packages (2.16.2)\n",
            "Requirement already satisfied: absl-py>=1.0.0 in /Users/parthakundu/GitHub/ece219-project1-papaymaguire/.venv/lib/python3.12/site-packages (from tensorflow) (2.1.0)\n",
            "Requirement already satisfied: astunparse>=1.6.0 in /Users/parthakundu/GitHub/ece219-project1-papaymaguire/.venv/lib/python3.12/site-packages (from tensorflow) (1.6.3)\n",
            "Requirement already satisfied: flatbuffers>=23.5.26 in /Users/parthakundu/GitHub/ece219-project1-papaymaguire/.venv/lib/python3.12/site-packages (from tensorflow) (24.3.25)\n",
            "Requirement already satisfied: gast!=0.5.0,!=0.5.1,!=0.5.2,>=0.2.1 in /Users/parthakundu/GitHub/ece219-project1-papaymaguire/.venv/lib/python3.12/site-packages (from tensorflow) (0.6.0)\n",
            "Requirement already satisfied: google-pasta>=0.1.1 in /Users/parthakundu/GitHub/ece219-project1-papaymaguire/.venv/lib/python3.12/site-packages (from tensorflow) (0.2.0)\n",
            "Requirement already satisfied: h5py>=3.10.0 in /Users/parthakundu/GitHub/ece219-project1-papaymaguire/.venv/lib/python3.12/site-packages (from tensorflow) (3.11.0)\n",
            "Requirement already satisfied: libclang>=13.0.0 in /Users/parthakundu/GitHub/ece219-project1-papaymaguire/.venv/lib/python3.12/site-packages (from tensorflow) (18.1.1)\n",
            "Requirement already satisfied: ml-dtypes~=0.3.1 in /Users/parthakundu/GitHub/ece219-project1-papaymaguire/.venv/lib/python3.12/site-packages (from tensorflow) (0.3.2)\n",
            "Requirement already satisfied: opt-einsum>=2.3.2 in /Users/parthakundu/GitHub/ece219-project1-papaymaguire/.venv/lib/python3.12/site-packages (from tensorflow) (3.3.0)\n",
            "Requirement already satisfied: packaging in /Users/parthakundu/GitHub/ece219-project1-papaymaguire/.venv/lib/python3.12/site-packages (from tensorflow) (24.0)\n",
            "Requirement already satisfied: protobuf!=4.21.0,!=4.21.1,!=4.21.2,!=4.21.3,!=4.21.4,!=4.21.5,<5.0.0dev,>=3.20.3 in /Users/parthakundu/GitHub/ece219-project1-papaymaguire/.venv/lib/python3.12/site-packages (from tensorflow) (4.25.3)\n",
            "Requirement already satisfied: requests<3,>=2.21.0 in /Users/parthakundu/GitHub/ece219-project1-papaymaguire/.venv/lib/python3.12/site-packages (from tensorflow) (2.32.3)\n",
            "Requirement already satisfied: setuptools in /Users/parthakundu/GitHub/ece219-project1-papaymaguire/.venv/lib/python3.12/site-packages (from tensorflow) (69.5.1)\n",
            "Requirement already satisfied: six>=1.12.0 in /Users/parthakundu/GitHub/ece219-project1-papaymaguire/.venv/lib/python3.12/site-packages (from tensorflow) (1.16.0)\n",
            "Requirement already satisfied: termcolor>=1.1.0 in /Users/parthakundu/GitHub/ece219-project1-papaymaguire/.venv/lib/python3.12/site-packages (from tensorflow) (2.4.0)\n",
            "Requirement already satisfied: typing-extensions>=3.6.6 in /Users/parthakundu/GitHub/ece219-project1-papaymaguire/.venv/lib/python3.12/site-packages (from tensorflow) (4.11.0)\n",
            "Requirement already satisfied: wrapt>=1.11.0 in /Users/parthakundu/GitHub/ece219-project1-papaymaguire/.venv/lib/python3.12/site-packages (from tensorflow) (1.16.0)\n",
            "Requirement already satisfied: grpcio<2.0,>=1.24.3 in /Users/parthakundu/GitHub/ece219-project1-papaymaguire/.venv/lib/python3.12/site-packages (from tensorflow) (1.62.2)\n",
            "Requirement already satisfied: tensorboard<2.17,>=2.16 in /Users/parthakundu/GitHub/ece219-project1-papaymaguire/.venv/lib/python3.12/site-packages (from tensorflow) (2.16.2)\n",
            "Requirement already satisfied: keras>=3.0.0 in /Users/parthakundu/GitHub/ece219-project1-papaymaguire/.venv/lib/python3.12/site-packages (from tensorflow) (3.4.1)\n",
            "Requirement already satisfied: numpy<2.0.0,>=1.26.0 in /Users/parthakundu/GitHub/ece219-project1-papaymaguire/.venv/lib/python3.12/site-packages (from tensorflow) (1.26.4)\n",
            "Requirement already satisfied: wheel<1.0,>=0.23.0 in /Users/parthakundu/GitHub/ece219-project1-papaymaguire/.venv/lib/python3.12/site-packages (from astunparse>=1.6.0->tensorflow) (0.43.0)\n",
            "Requirement already satisfied: rich in /Users/parthakundu/GitHub/ece219-project1-papaymaguire/.venv/lib/python3.12/site-packages (from keras>=3.0.0->tensorflow) (13.7.1)\n",
            "Requirement already satisfied: namex in /Users/parthakundu/GitHub/ece219-project1-papaymaguire/.venv/lib/python3.12/site-packages (from keras>=3.0.0->tensorflow) (0.0.8)\n",
            "Requirement already satisfied: optree in /Users/parthakundu/GitHub/ece219-project1-papaymaguire/.venv/lib/python3.12/site-packages (from keras>=3.0.0->tensorflow) (0.12.1)\n",
            "Requirement already satisfied: charset-normalizer<4,>=2 in /Users/parthakundu/GitHub/ece219-project1-papaymaguire/.venv/lib/python3.12/site-packages (from requests<3,>=2.21.0->tensorflow) (3.3.2)\n",
            "Requirement already satisfied: idna<4,>=2.5 in /Users/parthakundu/GitHub/ece219-project1-papaymaguire/.venv/lib/python3.12/site-packages (from requests<3,>=2.21.0->tensorflow) (3.7)\n",
            "Requirement already satisfied: urllib3<3,>=1.21.1 in /Users/parthakundu/GitHub/ece219-project1-papaymaguire/.venv/lib/python3.12/site-packages (from requests<3,>=2.21.0->tensorflow) (2.2.1)\n",
            "Requirement already satisfied: certifi>=2017.4.17 in /Users/parthakundu/GitHub/ece219-project1-papaymaguire/.venv/lib/python3.12/site-packages (from requests<3,>=2.21.0->tensorflow) (2024.2.2)\n",
            "Requirement already satisfied: markdown>=2.6.8 in /Users/parthakundu/GitHub/ece219-project1-papaymaguire/.venv/lib/python3.12/site-packages (from tensorboard<2.17,>=2.16->tensorflow) (3.6)\n",
            "Requirement already satisfied: tensorboard-data-server<0.8.0,>=0.7.0 in /Users/parthakundu/GitHub/ece219-project1-papaymaguire/.venv/lib/python3.12/site-packages (from tensorboard<2.17,>=2.16->tensorflow) (0.7.2)\n",
            "Requirement already satisfied: werkzeug>=1.0.1 in /Users/parthakundu/GitHub/ece219-project1-papaymaguire/.venv/lib/python3.12/site-packages (from tensorboard<2.17,>=2.16->tensorflow) (3.0.3)\n",
            "Requirement already satisfied: MarkupSafe>=2.1.1 in /Users/parthakundu/GitHub/ece219-project1-papaymaguire/.venv/lib/python3.12/site-packages (from werkzeug>=1.0.1->tensorboard<2.17,>=2.16->tensorflow) (2.1.5)\n",
            "Requirement already satisfied: markdown-it-py>=2.2.0 in /Users/parthakundu/GitHub/ece219-project1-papaymaguire/.venv/lib/python3.12/site-packages (from rich->keras>=3.0.0->tensorflow) (3.0.0)\n",
            "Requirement already satisfied: pygments<3.0.0,>=2.13.0 in /Users/parthakundu/GitHub/ece219-project1-papaymaguire/.venv/lib/python3.12/site-packages (from rich->keras>=3.0.0->tensorflow) (2.17.2)\n",
            "Requirement already satisfied: mdurl~=0.1 in /Users/parthakundu/GitHub/ece219-project1-papaymaguire/.venv/lib/python3.12/site-packages (from markdown-it-py>=2.2.0->rich->keras>=3.0.0->tensorflow) (0.1.2)\n"
          ]
        }
      ],
      "source": [
        "#feel free to use any other library of your choice\n",
        "!pip install spektral\n",
        "!pip install Keras\n",
        "!pip install tensorflow"
      ]
    },
    {
      "cell_type": "code",
      "execution_count": 2,
      "metadata": {
        "id": "WC5Rq99els1H"
      },
      "outputs": [],
      "source": [
        "import numpy as np\n",
        "import os\n",
        "import networkx as nx\n",
        "from keras.utils import to_categorical\n",
        "from sklearn.preprocessing import LabelEncoder\n",
        "from sklearn.utils import shuffle\n",
        "from sklearn.metrics import classification_report\n",
        "\n",
        "from spektral.layers import GCNConv\n",
        "\n",
        "from tensorflow.keras.models import Model\n",
        "from tensorflow.keras.layers import Input, Dropout, Dense\n",
        "from tensorflow.keras import Sequential\n",
        "from tensorflow.keras.optimizers import Adam\n",
        "from tensorflow.keras.callbacks import TensorBoard, EarlyStopping\n",
        "import tensorflow as tf\n",
        "from tensorflow.keras.regularizers import l2\n",
        "\n",
        "from collections import Counter\n",
        "from sklearn.manifold import TSNE\n",
        "import matplotlib.pyplot as plt"
      ]
    },
    {
      "cell_type": "code",
      "execution_count": 3,
      "metadata": {
        "colab": {
          "base_uri": "https://localhost:8080/"
        },
        "id": "aHcxRfJRmVJL",
        "outputId": "6b81c0d4-51d9-476f-cdac-78b03265303a"
      },
      "outputs": [
        {
          "name": "stdout",
          "output_type": "stream",
          "text": [
            "unzip:  cannot find or open cora (extract.me).zip, cora (extract.me).zip.zip or cora (extract.me).zip.ZIP.\n"
          ]
        }
      ],
      "source": [
        "!unzip \"cora (extract.me).zip\""
      ]
    },
    {
      "cell_type": "code",
      "execution_count": 4,
      "metadata": {
        "id": "x91rSYec3lQb"
      },
      "outputs": [],
      "source": [
        "all_data = []\n",
        "all_edges = []\n",
        "\n",
        "for root,dirs,files in os.walk('./cora'):\n",
        "    for file in files:\n",
        "        if '.content' in file:\n",
        "            with open(os.path.join(root,file),'r') as f:\n",
        "                all_data.extend(f.read().splitlines())\n",
        "        elif 'cites' in file:\n",
        "            with open(os.path.join(root,file),'r') as f:\n",
        "                all_edges.extend(f.read().splitlines())\n",
        "\n",
        "                \n",
        "\n",
        "all_data = shuffle(all_data,random_state=42)"
      ]
    },
    {
      "cell_type": "code",
      "execution_count": 5,
      "metadata": {
        "colab": {
          "base_uri": "https://localhost:8080/"
        },
        "id": "yAK_lPbU4Rxo",
        "outputId": "d734c079-39ab-41b7-f093-57fdf687d350"
      },
      "outputs": [
        {
          "ename": "IndexError",
          "evalue": "tuple index out of range",
          "output_type": "error",
          "traceback": [
            "\u001b[0;31m---------------------------------------------------------------------------\u001b[0m",
            "\u001b[0;31mIndexError\u001b[0m                                Traceback (most recent call last)",
            "Cell \u001b[0;32mIn[5], line 13\u001b[0m\n\u001b[1;32m     11\u001b[0m X \u001b[38;5;241m=\u001b[39m np\u001b[38;5;241m.\u001b[39marray(X,dtype\u001b[38;5;241m=\u001b[39m\u001b[38;5;28mint\u001b[39m)\n\u001b[1;32m     12\u001b[0m N \u001b[38;5;241m=\u001b[39m X\u001b[38;5;241m.\u001b[39mshape[\u001b[38;5;241m0\u001b[39m] \n\u001b[0;32m---> 13\u001b[0m F \u001b[38;5;241m=\u001b[39m \u001b[43mX\u001b[49m\u001b[38;5;241;43m.\u001b[39;49m\u001b[43mshape\u001b[49m\u001b[43m[\u001b[49m\u001b[38;5;241;43m1\u001b[39;49m\u001b[43m]\u001b[49m\n\u001b[1;32m     14\u001b[0m \u001b[38;5;28mprint\u001b[39m(\u001b[38;5;124m'\u001b[39m\u001b[38;5;124mX shape: \u001b[39m\u001b[38;5;124m'\u001b[39m, X\u001b[38;5;241m.\u001b[39mshape)\n\u001b[1;32m     17\u001b[0m \u001b[38;5;66;03m#parse the edge\u001b[39;00m\n",
            "\u001b[0;31mIndexError\u001b[0m: tuple index out of range"
          ]
        }
      ],
      "source": [
        "labels = []\n",
        "nodes = []\n",
        "X = []\n",
        "\n",
        "for i,data in enumerate(all_data):\n",
        "    elements = data.split('\\t')\n",
        "    labels.append(elements[-1])\n",
        "    X.append(elements[1:-1])\n",
        "    nodes.append(elements[0])\n",
        "\n",
        "X = np.array(X,dtype=int)\n",
        "N = X.shape[0] \n",
        "F = X.shape[1]\n",
        "print('X shape: ', X.shape)\n",
        "\n",
        "\n",
        "#parse the edge\n",
        "edge_list=[]\n",
        "for edge in all_edges:\n",
        "    e = edge.split('\\t')\n",
        "    edge_list.append((e[0],e[1]))\n",
        "\n",
        "print('\\nNumber of nodes (N): ', N)\n",
        "print('\\nNumber of features (F) of each node: ', F)\n",
        "print('\\nCategories: ', set(labels))\n",
        "\n",
        "num_classes = len(set(labels))\n",
        "print('\\nNumber of classes: ', num_classes)"
      ]
    },
    {
      "cell_type": "code",
      "execution_count": 14,
      "metadata": {
        "colab": {
          "base_uri": "https://localhost:8080/"
        },
        "id": "Zs-C7dtDuBU-",
        "outputId": "d048a7cd-ab5e-46e8-a745-0f4620cbfcd0"
      },
      "outputs": [
        {
          "name": "stdout",
          "output_type": "stream",
          "text": [
            "Graph info:  Graph with 2708 nodes and 5278 edges\n"
          ]
        }
      ],
      "source": [
        "G = nx.Graph()\n",
        "G.add_nodes_from(nodes)\n",
        "G.add_edges_from(edge_list)\n",
        "\n",
        "\n",
        "A = nx.adjacency_matrix(G)\n",
        "print('Graph info: ', nx.info(G))\n",
        "\n",
        "#use gcc if you want. "
      ]
    },
    {
      "cell_type": "code",
      "execution_count": 15,
      "metadata": {
        "id": "OBf1AFMg4U8R"
      },
      "outputs": [],
      "source": [
        "#get 20 train instances per class\n",
        "#remaining instances are in test set test  \n"
      ]
    },
    {
      "cell_type": "code",
      "execution_count": 16,
      "metadata": {
        "id": "wvWnJ5Jp4alq"
      },
      "outputs": [],
      "source": [
        "# Parameters\n",
        "#channels, dropout_prob, learning rate, epochs, etc         \n",
        "\n",
        "\n",
        "\n",
        "\n",
        "# Model definition\n",
        "\n",
        "#X_in = Input(shape=(F, ))\n",
        "#fltr_in = Input((N, ), sparse=True)\n",
        "\n",
        "#DEFINE YOUR MODEL HERE\n",
        "\n",
        "# Build model\n",
        "#model = Model(inputs ..., outputs=...)\n",
        "#optimizer = # your optimizer \n",
        "#model.compile(...)\n",
        "#model.summary()\n",
        "\n"
      ]
    },
    {
      "cell_type": "code",
      "execution_count": 17,
      "metadata": {
        "id": "rC4ONcpX497D"
      },
      "outputs": [],
      "source": [
        "# Train model\n",
        "#validation_data = \n",
        "#model.fit(...)\n",
        "\n",
        "# Evaluate model\n",
        "\n",
        "#prepare input for prediction\n",
        "#y_pred = model.predict\n",
        "\n",
        "\n",
        "\n",
        "#report = classification_report(np.argmax(y_te,axis=1), np.argmax(y_pred,axis=1), target_names=classes)\n",
        "#print('GCN Classification Report: \\n {}'.format(report))"
      ]
    },
    {
      "cell_type": "code",
      "execution_count": 18,
      "metadata": {
        "id": "1yz_ovMc5D9Q"
      },
      "outputs": [],
      "source": [
        "\n",
        "\n",
        "# layer_outputs = [layer.output for layer in model.layers]\n",
        "# activation_model = Model(inputs=model.input, outputs=layer_outputs)\n",
        "# activations = activation_model.predict([X,A],batch_size=N)\n",
        "\n",
        "\n",
        "# x_tsne = TSNE(n_components=2).fit_transform(activations[3]) \n",
        "\n",
        "# def plot_tSNE(labels_encoded,x_tsne):\n",
        "#     color_map = np.argmax(labels_encoded, axis=1)\n",
        "#     plt.figure(figsize=(10,10))\n",
        "#     for cl in range(num_classes):\n",
        "#         indices = np.where(color_map==cl)\n",
        "#         indices = indices[0]\n",
        "#         plt.scatter(x_tsne[indices,0], x_tsne[indices, 1], label=cl)\n",
        "#     plt.legend()\n",
        "#     plt.show()\n",
        "    \n",
        "# plot_tSNE(labels_encoded,x_tsne)"
      ]
    },
    {
      "cell_type": "code",
      "execution_count": null,
      "metadata": {
        "id": "bHSti-Kb55HZ"
      },
      "outputs": [],
      "source": []
    }
  ],
  "metadata": {
    "colab": {
      "collapsed_sections": [],
      "name": "cora_gcn_helper.ipynb",
      "provenance": []
    },
    "kernelspec": {
      "display_name": "Python 3",
      "name": "python3"
    },
    "language_info": {
      "codemirror_mode": {
        "name": "ipython",
        "version": 3
      },
      "file_extension": ".py",
      "mimetype": "text/x-python",
      "name": "python",
      "nbconvert_exporter": "python",
      "pygments_lexer": "ipython3",
      "version": "3.12.2"
    }
  },
  "nbformat": 4,
  "nbformat_minor": 0
}
