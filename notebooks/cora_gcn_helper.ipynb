{
  "cells": [
    {
      "cell_type": "code",
      "execution_count": 1,
      "metadata": {
        "colab": {
          "base_uri": "https://localhost:8080/"
        },
        "id": "nbRz4Bpylo-d",
        "outputId": "c1f96ea6-7a54-4f92-89f6-995cb23cb2ec"
      },
      "outputs": [
        {
          "name": "stdout",
          "output_type": "stream",
          "text": [
            "Requirement already satisfied: spektral in /Users/parthakundu/GitHub/.venvcora/lib/python3.12/site-packages (1.3.1)\n",
            "Requirement already satisfied: joblib in /Users/parthakundu/GitHub/.venvcora/lib/python3.12/site-packages (from spektral) (1.4.2)\n",
            "Requirement already satisfied: lxml in /Users/parthakundu/GitHub/.venvcora/lib/python3.12/site-packages (from spektral) (5.2.2)\n",
            "Requirement already satisfied: networkx in /Users/parthakundu/GitHub/.venvcora/lib/python3.12/site-packages (from spektral) (3.3)\n",
            "Requirement already satisfied: numpy in /Users/parthakundu/GitHub/.venvcora/lib/python3.12/site-packages (from spektral) (1.26.4)\n",
            "Requirement already satisfied: pandas in /Users/parthakundu/GitHub/.venvcora/lib/python3.12/site-packages (from spektral) (2.2.2)\n",
            "Requirement already satisfied: requests in /Users/parthakundu/GitHub/.venvcora/lib/python3.12/site-packages (from spektral) (2.32.3)\n",
            "Requirement already satisfied: scikit-learn in /Users/parthakundu/GitHub/.venvcora/lib/python3.12/site-packages (from spektral) (1.5.1)\n",
            "Requirement already satisfied: scipy in /Users/parthakundu/GitHub/.venvcora/lib/python3.12/site-packages (from spektral) (1.14.0)\n",
            "Requirement already satisfied: tqdm in /Users/parthakundu/GitHub/.venvcora/lib/python3.12/site-packages (from spektral) (4.66.4)\n",
            "Requirement already satisfied: tensorflow-macos>=2.5.0 in /Users/parthakundu/GitHub/.venvcora/lib/python3.12/site-packages (from spektral) (2.16.2)\n",
            "Requirement already satisfied: tensorflow==2.16.2 in /Users/parthakundu/GitHub/.venvcora/lib/python3.12/site-packages (from tensorflow-macos>=2.5.0->spektral) (2.16.2)\n",
            "Requirement already satisfied: absl-py>=1.0.0 in /Users/parthakundu/GitHub/.venvcora/lib/python3.12/site-packages (from tensorflow==2.16.2->tensorflow-macos>=2.5.0->spektral) (2.1.0)\n",
            "Requirement already satisfied: astunparse>=1.6.0 in /Users/parthakundu/GitHub/.venvcora/lib/python3.12/site-packages (from tensorflow==2.16.2->tensorflow-macos>=2.5.0->spektral) (1.6.3)\n",
            "Requirement already satisfied: flatbuffers>=23.5.26 in /Users/parthakundu/GitHub/.venvcora/lib/python3.12/site-packages (from tensorflow==2.16.2->tensorflow-macos>=2.5.0->spektral) (24.3.25)\n",
            "Requirement already satisfied: gast!=0.5.0,!=0.5.1,!=0.5.2,>=0.2.1 in /Users/parthakundu/GitHub/.venvcora/lib/python3.12/site-packages (from tensorflow==2.16.2->tensorflow-macos>=2.5.0->spektral) (0.6.0)\n",
            "Requirement already satisfied: google-pasta>=0.1.1 in /Users/parthakundu/GitHub/.venvcora/lib/python3.12/site-packages (from tensorflow==2.16.2->tensorflow-macos>=2.5.0->spektral) (0.2.0)\n",
            "Requirement already satisfied: h5py>=3.10.0 in /Users/parthakundu/GitHub/.venvcora/lib/python3.12/site-packages (from tensorflow==2.16.2->tensorflow-macos>=2.5.0->spektral) (3.11.0)\n",
            "Requirement already satisfied: libclang>=13.0.0 in /Users/parthakundu/GitHub/.venvcora/lib/python3.12/site-packages (from tensorflow==2.16.2->tensorflow-macos>=2.5.0->spektral) (18.1.1)\n",
            "Requirement already satisfied: ml-dtypes~=0.3.1 in /Users/parthakundu/GitHub/.venvcora/lib/python3.12/site-packages (from tensorflow==2.16.2->tensorflow-macos>=2.5.0->spektral) (0.3.2)\n",
            "Requirement already satisfied: opt-einsum>=2.3.2 in /Users/parthakundu/GitHub/.venvcora/lib/python3.12/site-packages (from tensorflow==2.16.2->tensorflow-macos>=2.5.0->spektral) (3.3.0)\n",
            "Requirement already satisfied: packaging in /Users/parthakundu/GitHub/.venvcora/lib/python3.12/site-packages (from tensorflow==2.16.2->tensorflow-macos>=2.5.0->spektral) (24.1)\n",
            "Requirement already satisfied: protobuf!=4.21.0,!=4.21.1,!=4.21.2,!=4.21.3,!=4.21.4,!=4.21.5,<5.0.0dev,>=3.20.3 in /Users/parthakundu/GitHub/.venvcora/lib/python3.12/site-packages (from tensorflow==2.16.2->tensorflow-macos>=2.5.0->spektral) (4.25.4)\n",
            "Requirement already satisfied: setuptools in /Users/parthakundu/GitHub/.venvcora/lib/python3.12/site-packages (from tensorflow==2.16.2->tensorflow-macos>=2.5.0->spektral) (71.1.0)\n",
            "Requirement already satisfied: six>=1.12.0 in /Users/parthakundu/GitHub/.venvcora/lib/python3.12/site-packages (from tensorflow==2.16.2->tensorflow-macos>=2.5.0->spektral) (1.16.0)\n",
            "Requirement already satisfied: termcolor>=1.1.0 in /Users/parthakundu/GitHub/.venvcora/lib/python3.12/site-packages (from tensorflow==2.16.2->tensorflow-macos>=2.5.0->spektral) (2.4.0)\n",
            "Requirement already satisfied: typing-extensions>=3.6.6 in /Users/parthakundu/GitHub/.venvcora/lib/python3.12/site-packages (from tensorflow==2.16.2->tensorflow-macos>=2.5.0->spektral) (4.12.2)\n",
            "Requirement already satisfied: wrapt>=1.11.0 in /Users/parthakundu/GitHub/.venvcora/lib/python3.12/site-packages (from tensorflow==2.16.2->tensorflow-macos>=2.5.0->spektral) (1.16.0)\n",
            "Requirement already satisfied: grpcio<2.0,>=1.24.3 in /Users/parthakundu/GitHub/.venvcora/lib/python3.12/site-packages (from tensorflow==2.16.2->tensorflow-macos>=2.5.0->spektral) (1.65.1)\n",
            "Requirement already satisfied: tensorboard<2.17,>=2.16 in /Users/parthakundu/GitHub/.venvcora/lib/python3.12/site-packages (from tensorflow==2.16.2->tensorflow-macos>=2.5.0->spektral) (2.16.2)\n",
            "Requirement already satisfied: keras>=3.0.0 in /Users/parthakundu/GitHub/.venvcora/lib/python3.12/site-packages (from tensorflow==2.16.2->tensorflow-macos>=2.5.0->spektral) (3.4.1)\n",
            "Requirement already satisfied: charset-normalizer<4,>=2 in /Users/parthakundu/GitHub/.venvcora/lib/python3.12/site-packages (from requests->spektral) (3.3.2)\n",
            "Requirement already satisfied: idna<4,>=2.5 in /Users/parthakundu/GitHub/.venvcora/lib/python3.12/site-packages (from requests->spektral) (3.7)\n",
            "Requirement already satisfied: urllib3<3,>=1.21.1 in /Users/parthakundu/GitHub/.venvcora/lib/python3.12/site-packages (from requests->spektral) (2.2.2)\n",
            "Requirement already satisfied: certifi>=2017.4.17 in /Users/parthakundu/GitHub/.venvcora/lib/python3.12/site-packages (from requests->spektral) (2024.7.4)\n",
            "Requirement already satisfied: python-dateutil>=2.8.2 in /Users/parthakundu/GitHub/.venvcora/lib/python3.12/site-packages (from pandas->spektral) (2.9.0.post0)\n",
            "Requirement already satisfied: pytz>=2020.1 in /Users/parthakundu/GitHub/.venvcora/lib/python3.12/site-packages (from pandas->spektral) (2024.1)\n",
            "Requirement already satisfied: tzdata>=2022.7 in /Users/parthakundu/GitHub/.venvcora/lib/python3.12/site-packages (from pandas->spektral) (2024.1)\n",
            "Requirement already satisfied: threadpoolctl>=3.1.0 in /Users/parthakundu/GitHub/.venvcora/lib/python3.12/site-packages (from scikit-learn->spektral) (3.5.0)\n",
            "Requirement already satisfied: wheel<1.0,>=0.23.0 in /Users/parthakundu/GitHub/.venvcora/lib/python3.12/site-packages (from astunparse>=1.6.0->tensorflow==2.16.2->tensorflow-macos>=2.5.0->spektral) (0.43.0)\n",
            "Requirement already satisfied: rich in /Users/parthakundu/GitHub/.venvcora/lib/python3.12/site-packages (from keras>=3.0.0->tensorflow==2.16.2->tensorflow-macos>=2.5.0->spektral) (13.7.1)\n",
            "Requirement already satisfied: namex in /Users/parthakundu/GitHub/.venvcora/lib/python3.12/site-packages (from keras>=3.0.0->tensorflow==2.16.2->tensorflow-macos>=2.5.0->spektral) (0.0.8)\n",
            "Requirement already satisfied: optree in /Users/parthakundu/GitHub/.venvcora/lib/python3.12/site-packages (from keras>=3.0.0->tensorflow==2.16.2->tensorflow-macos>=2.5.0->spektral) (0.12.1)\n",
            "Requirement already satisfied: markdown>=2.6.8 in /Users/parthakundu/GitHub/.venvcora/lib/python3.12/site-packages (from tensorboard<2.17,>=2.16->tensorflow==2.16.2->tensorflow-macos>=2.5.0->spektral) (3.6)\n",
            "Requirement already satisfied: tensorboard-data-server<0.8.0,>=0.7.0 in /Users/parthakundu/GitHub/.venvcora/lib/python3.12/site-packages (from tensorboard<2.17,>=2.16->tensorflow==2.16.2->tensorflow-macos>=2.5.0->spektral) (0.7.2)\n",
            "Requirement already satisfied: werkzeug>=1.0.1 in /Users/parthakundu/GitHub/.venvcora/lib/python3.12/site-packages (from tensorboard<2.17,>=2.16->tensorflow==2.16.2->tensorflow-macos>=2.5.0->spektral) (3.0.3)\n",
            "Requirement already satisfied: MarkupSafe>=2.1.1 in /Users/parthakundu/GitHub/.venvcora/lib/python3.12/site-packages (from werkzeug>=1.0.1->tensorboard<2.17,>=2.16->tensorflow==2.16.2->tensorflow-macos>=2.5.0->spektral) (2.1.5)\n",
            "Requirement already satisfied: markdown-it-py>=2.2.0 in /Users/parthakundu/GitHub/.venvcora/lib/python3.12/site-packages (from rich->keras>=3.0.0->tensorflow==2.16.2->tensorflow-macos>=2.5.0->spektral) (3.0.0)\n",
            "Requirement already satisfied: pygments<3.0.0,>=2.13.0 in /Users/parthakundu/GitHub/.venvcora/lib/python3.12/site-packages (from rich->keras>=3.0.0->tensorflow==2.16.2->tensorflow-macos>=2.5.0->spektral) (2.18.0)\n",
            "Requirement already satisfied: mdurl~=0.1 in /Users/parthakundu/GitHub/.venvcora/lib/python3.12/site-packages (from markdown-it-py>=2.2.0->rich->keras>=3.0.0->tensorflow==2.16.2->tensorflow-macos>=2.5.0->spektral) (0.1.2)\n",
            "Requirement already satisfied: Keras in /Users/parthakundu/GitHub/.venvcora/lib/python3.12/site-packages (3.4.1)\n",
            "Requirement already satisfied: absl-py in /Users/parthakundu/GitHub/.venvcora/lib/python3.12/site-packages (from Keras) (2.1.0)\n",
            "Requirement already satisfied: numpy in /Users/parthakundu/GitHub/.venvcora/lib/python3.12/site-packages (from Keras) (1.26.4)\n",
            "Requirement already satisfied: rich in /Users/parthakundu/GitHub/.venvcora/lib/python3.12/site-packages (from Keras) (13.7.1)\n",
            "Requirement already satisfied: namex in /Users/parthakundu/GitHub/.venvcora/lib/python3.12/site-packages (from Keras) (0.0.8)\n",
            "Requirement already satisfied: h5py in /Users/parthakundu/GitHub/.venvcora/lib/python3.12/site-packages (from Keras) (3.11.0)\n",
            "Requirement already satisfied: optree in /Users/parthakundu/GitHub/.venvcora/lib/python3.12/site-packages (from Keras) (0.12.1)\n",
            "Requirement already satisfied: ml-dtypes in /Users/parthakundu/GitHub/.venvcora/lib/python3.12/site-packages (from Keras) (0.3.2)\n",
            "Requirement already satisfied: packaging in /Users/parthakundu/GitHub/.venvcora/lib/python3.12/site-packages (from Keras) (24.1)\n",
            "Requirement already satisfied: typing-extensions>=4.5.0 in /Users/parthakundu/GitHub/.venvcora/lib/python3.12/site-packages (from optree->Keras) (4.12.2)\n",
            "Requirement already satisfied: markdown-it-py>=2.2.0 in /Users/parthakundu/GitHub/.venvcora/lib/python3.12/site-packages (from rich->Keras) (3.0.0)\n",
            "Requirement already satisfied: pygments<3.0.0,>=2.13.0 in /Users/parthakundu/GitHub/.venvcora/lib/python3.12/site-packages (from rich->Keras) (2.18.0)\n",
            "Requirement already satisfied: mdurl~=0.1 in /Users/parthakundu/GitHub/.venvcora/lib/python3.12/site-packages (from markdown-it-py>=2.2.0->rich->Keras) (0.1.2)\n",
            "Requirement already satisfied: tensorflow in /Users/parthakundu/GitHub/.venvcora/lib/python3.12/site-packages (2.16.2)\n",
            "Requirement already satisfied: absl-py>=1.0.0 in /Users/parthakundu/GitHub/.venvcora/lib/python3.12/site-packages (from tensorflow) (2.1.0)\n",
            "Requirement already satisfied: astunparse>=1.6.0 in /Users/parthakundu/GitHub/.venvcora/lib/python3.12/site-packages (from tensorflow) (1.6.3)\n",
            "Requirement already satisfied: flatbuffers>=23.5.26 in /Users/parthakundu/GitHub/.venvcora/lib/python3.12/site-packages (from tensorflow) (24.3.25)\n",
            "Requirement already satisfied: gast!=0.5.0,!=0.5.1,!=0.5.2,>=0.2.1 in /Users/parthakundu/GitHub/.venvcora/lib/python3.12/site-packages (from tensorflow) (0.6.0)\n",
            "Requirement already satisfied: google-pasta>=0.1.1 in /Users/parthakundu/GitHub/.venvcora/lib/python3.12/site-packages (from tensorflow) (0.2.0)\n",
            "Requirement already satisfied: h5py>=3.10.0 in /Users/parthakundu/GitHub/.venvcora/lib/python3.12/site-packages (from tensorflow) (3.11.0)\n",
            "Requirement already satisfied: libclang>=13.0.0 in /Users/parthakundu/GitHub/.venvcora/lib/python3.12/site-packages (from tensorflow) (18.1.1)\n",
            "Requirement already satisfied: ml-dtypes~=0.3.1 in /Users/parthakundu/GitHub/.venvcora/lib/python3.12/site-packages (from tensorflow) (0.3.2)\n",
            "Requirement already satisfied: opt-einsum>=2.3.2 in /Users/parthakundu/GitHub/.venvcora/lib/python3.12/site-packages (from tensorflow) (3.3.0)\n",
            "Requirement already satisfied: packaging in /Users/parthakundu/GitHub/.venvcora/lib/python3.12/site-packages (from tensorflow) (24.1)\n",
            "Requirement already satisfied: protobuf!=4.21.0,!=4.21.1,!=4.21.2,!=4.21.3,!=4.21.4,!=4.21.5,<5.0.0dev,>=3.20.3 in /Users/parthakundu/GitHub/.venvcora/lib/python3.12/site-packages (from tensorflow) (4.25.4)\n",
            "Requirement already satisfied: requests<3,>=2.21.0 in /Users/parthakundu/GitHub/.venvcora/lib/python3.12/site-packages (from tensorflow) (2.32.3)\n",
            "Requirement already satisfied: setuptools in /Users/parthakundu/GitHub/.venvcora/lib/python3.12/site-packages (from tensorflow) (71.1.0)\n",
            "Requirement already satisfied: six>=1.12.0 in /Users/parthakundu/GitHub/.venvcora/lib/python3.12/site-packages (from tensorflow) (1.16.0)\n",
            "Requirement already satisfied: termcolor>=1.1.0 in /Users/parthakundu/GitHub/.venvcora/lib/python3.12/site-packages (from tensorflow) (2.4.0)\n",
            "Requirement already satisfied: typing-extensions>=3.6.6 in /Users/parthakundu/GitHub/.venvcora/lib/python3.12/site-packages (from tensorflow) (4.12.2)\n",
            "Requirement already satisfied: wrapt>=1.11.0 in /Users/parthakundu/GitHub/.venvcora/lib/python3.12/site-packages (from tensorflow) (1.16.0)\n",
            "Requirement already satisfied: grpcio<2.0,>=1.24.3 in /Users/parthakundu/GitHub/.venvcora/lib/python3.12/site-packages (from tensorflow) (1.65.1)\n",
            "Requirement already satisfied: tensorboard<2.17,>=2.16 in /Users/parthakundu/GitHub/.venvcora/lib/python3.12/site-packages (from tensorflow) (2.16.2)\n",
            "Requirement already satisfied: keras>=3.0.0 in /Users/parthakundu/GitHub/.venvcora/lib/python3.12/site-packages (from tensorflow) (3.4.1)\n",
            "Requirement already satisfied: numpy<2.0.0,>=1.26.0 in /Users/parthakundu/GitHub/.venvcora/lib/python3.12/site-packages (from tensorflow) (1.26.4)\n",
            "Requirement already satisfied: wheel<1.0,>=0.23.0 in /Users/parthakundu/GitHub/.venvcora/lib/python3.12/site-packages (from astunparse>=1.6.0->tensorflow) (0.43.0)\n",
            "Requirement already satisfied: rich in /Users/parthakundu/GitHub/.venvcora/lib/python3.12/site-packages (from keras>=3.0.0->tensorflow) (13.7.1)\n",
            "Requirement already satisfied: namex in /Users/parthakundu/GitHub/.venvcora/lib/python3.12/site-packages (from keras>=3.0.0->tensorflow) (0.0.8)\n",
            "Requirement already satisfied: optree in /Users/parthakundu/GitHub/.venvcora/lib/python3.12/site-packages (from keras>=3.0.0->tensorflow) (0.12.1)\n",
            "Requirement already satisfied: charset-normalizer<4,>=2 in /Users/parthakundu/GitHub/.venvcora/lib/python3.12/site-packages (from requests<3,>=2.21.0->tensorflow) (3.3.2)\n",
            "Requirement already satisfied: idna<4,>=2.5 in /Users/parthakundu/GitHub/.venvcora/lib/python3.12/site-packages (from requests<3,>=2.21.0->tensorflow) (3.7)\n",
            "Requirement already satisfied: urllib3<3,>=1.21.1 in /Users/parthakundu/GitHub/.venvcora/lib/python3.12/site-packages (from requests<3,>=2.21.0->tensorflow) (2.2.2)\n",
            "Requirement already satisfied: certifi>=2017.4.17 in /Users/parthakundu/GitHub/.venvcora/lib/python3.12/site-packages (from requests<3,>=2.21.0->tensorflow) (2024.7.4)\n",
            "Requirement already satisfied: markdown>=2.6.8 in /Users/parthakundu/GitHub/.venvcora/lib/python3.12/site-packages (from tensorboard<2.17,>=2.16->tensorflow) (3.6)\n",
            "Requirement already satisfied: tensorboard-data-server<0.8.0,>=0.7.0 in /Users/parthakundu/GitHub/.venvcora/lib/python3.12/site-packages (from tensorboard<2.17,>=2.16->tensorflow) (0.7.2)\n",
            "Requirement already satisfied: werkzeug>=1.0.1 in /Users/parthakundu/GitHub/.venvcora/lib/python3.12/site-packages (from tensorboard<2.17,>=2.16->tensorflow) (3.0.3)\n",
            "Requirement already satisfied: MarkupSafe>=2.1.1 in /Users/parthakundu/GitHub/.venvcora/lib/python3.12/site-packages (from werkzeug>=1.0.1->tensorboard<2.17,>=2.16->tensorflow) (2.1.5)\n",
            "Requirement already satisfied: markdown-it-py>=2.2.0 in /Users/parthakundu/GitHub/.venvcora/lib/python3.12/site-packages (from rich->keras>=3.0.0->tensorflow) (3.0.0)\n",
            "Requirement already satisfied: pygments<3.0.0,>=2.13.0 in /Users/parthakundu/GitHub/.venvcora/lib/python3.12/site-packages (from rich->keras>=3.0.0->tensorflow) (2.18.0)\n",
            "Requirement already satisfied: mdurl~=0.1 in /Users/parthakundu/GitHub/.venvcora/lib/python3.12/site-packages (from markdown-it-py>=2.2.0->rich->keras>=3.0.0->tensorflow) (0.1.2)\n"
          ]
        }
      ],
      "source": [
        "#feel free to use any other library of your choice\n",
        "!pip install spektral\n",
        "!pip install Keras\n",
        "!pip install tensorflow"
      ]
    },
    {
      "cell_type": "code",
      "execution_count": 2,
      "metadata": {
        "id": "WC5Rq99els1H"
      },
      "outputs": [],
      "source": [
        "import numpy as np\n",
        "import os\n",
        "import networkx as nx\n",
        "from keras.utils import to_categorical\n",
        "from sklearn.preprocessing import LabelEncoder\n",
        "from sklearn.utils import shuffle\n",
        "from sklearn.metrics import classification_report\n",
        "\n",
        "from spektral.layers import GCNConv\n",
        "\n",
        "from tensorflow.keras.models import Model\n",
        "from tensorflow.keras.layers import Input, Dropout, Dense\n",
        "from tensorflow.keras import Sequential\n",
        "from tensorflow.keras.optimizers import Adam\n",
        "from tensorflow.keras.callbacks import TensorBoard, EarlyStopping\n",
        "import tensorflow as tf\n",
        "from tensorflow.keras.regularizers import l2\n",
        "\n",
        "from collections import Counter\n",
        "from sklearn.manifold import TSNE\n",
        "import matplotlib.pyplot as plt"
      ]
    },
    {
      "cell_type": "code",
      "execution_count": 3,
      "metadata": {
        "colab": {
          "base_uri": "https://localhost:8080/"
        },
        "id": "aHcxRfJRmVJL",
        "outputId": "6b81c0d4-51d9-476f-cdac-78b03265303a"
      },
      "outputs": [
        {
          "name": "stdout",
          "output_type": "stream",
          "text": [
            "unzip:  cannot find or open cora (extract.me).zip, cora (extract.me).zip.zip or cora (extract.me).zip.ZIP.\n"
          ]
        }
      ],
      "source": [
        "!unzip \"cora (extract.me).zip\""
      ]
    },
    {
      "cell_type": "code",
      "execution_count": 3,
      "metadata": {
        "id": "x91rSYec3lQb"
      },
      "outputs": [],
      "source": [
        "all_data = []\n",
        "all_edges = []\n",
        "\n",
        "for root,dirs,files in os.walk('../dataFiles/cora'):\n",
        "    for file in files:\n",
        "        if '.content' in file:\n",
        "            with open(os.path.join(root,file),'r') as f:\n",
        "                all_data.extend(f.read().splitlines())\n",
        "        elif 'cites' in file:\n",
        "            with open(os.path.join(root,file),'r') as f:\n",
        "                all_edges.extend(f.read().splitlines())\n",
        "\n",
        "                \n",
        "\n",
        "all_data = shuffle(all_data,random_state=42)"
      ]
    },
    {
      "cell_type": "code",
      "execution_count": 4,
      "metadata": {
        "colab": {
          "base_uri": "https://localhost:8080/"
        },
        "id": "yAK_lPbU4Rxo",
        "outputId": "d734c079-39ab-41b7-f093-57fdf687d350"
      },
      "outputs": [
        {
          "name": "stdout",
          "output_type": "stream",
          "text": [
            "X shape:  (2708, 1433)\n",
            "\n",
            "Number of nodes (N):  2708\n",
            "\n",
            "Number of features (F) of each node:  1433\n",
            "\n",
            "Categories:  {'Probabilistic_Methods', 'Theory', 'Rule_Learning', 'Reinforcement_Learning', 'Case_Based', 'Genetic_Algorithms', 'Neural_Networks'}\n",
            "\n",
            "Number of classes:  7\n"
          ]
        }
      ],
      "source": [
        "labels = []\n",
        "nodes = []\n",
        "X = []\n",
        "\n",
        "for i,data in enumerate(all_data):\n",
        "    elements = data.split('\\t')\n",
        "    labels.append(elements[-1])\n",
        "    X.append(elements[1:-1])\n",
        "    nodes.append(elements[0])\n",
        "\n",
        "X = np.array(X,dtype=int)\n",
        "N = X.shape[0] \n",
        "F = X.shape[1]\n",
        "print('X shape: ', X.shape)\n",
        "\n",
        "\n",
        "#parse the edge\n",
        "edge_list=[]\n",
        "for edge in all_edges:\n",
        "    e = edge.split('\\t')\n",
        "    edge_list.append((e[0],e[1]))\n",
        "\n",
        "print('\\nNumber of nodes (N): ', N)\n",
        "print('\\nNumber of features (F) of each node: ', F)\n",
        "print('\\nCategories: ', set(labels))\n",
        "\n",
        "num_classes = len(set(labels))\n",
        "print('\\nNumber of classes: ', num_classes)"
      ]
    },
    {
      "cell_type": "code",
      "execution_count": 7,
      "metadata": {
        "colab": {
          "base_uri": "https://localhost:8080/"
        },
        "id": "Zs-C7dtDuBU-",
        "outputId": "d048a7cd-ab5e-46e8-a745-0f4620cbfcd0"
      },
      "outputs": [],
      "source": [
        "G = nx.Graph()\n",
        "G.add_nodes_from(nodes)\n",
        "G.add_edges_from(edge_list)\n",
        "\n",
        "\n",
        "A = nx.adjacency_matrix(G)\n",
        "# print('Graph info: ', nx.info(G))\n",
        "\n",
        "#use gcc if you want. "
      ]
    },
    {
      "cell_type": "code",
      "execution_count": 15,
      "metadata": {
        "id": "OBf1AFMg4U8R"
      },
      "outputs": [],
      "source": [
        "#get 20 train instances per class\n",
        "#remaining instances are in test set test  \n"
      ]
    },
    {
      "cell_type": "code",
      "execution_count": 16,
      "metadata": {
        "id": "wvWnJ5Jp4alq"
      },
      "outputs": [],
      "source": [
        "# Parameters\n",
        "#channels, dropout_prob, learning rate, epochs, etc         \n",
        "\n",
        "\n",
        "\n",
        "\n",
        "# Model definition\n",
        "\n",
        "#X_in = Input(shape=(F, ))\n",
        "#fltr_in = Input((N, ), sparse=True)\n",
        "\n",
        "#DEFINE YOUR MODEL HERE\n",
        "\n",
        "# Build model\n",
        "#model = Model(inputs ..., outputs=...)\n",
        "#optimizer = # your optimizer \n",
        "#model.compile(...)\n",
        "#model.summary()\n",
        "\n"
      ]
    },
    {
      "cell_type": "code",
      "execution_count": 17,
      "metadata": {
        "id": "rC4ONcpX497D"
      },
      "outputs": [],
      "source": [
        "# Train model\n",
        "#validation_data = \n",
        "#model.fit(...)\n",
        "\n",
        "# Evaluate model\n",
        "\n",
        "#prepare input for prediction\n",
        "#y_pred = model.predict\n",
        "\n",
        "\n",
        "\n",
        "#report = classification_report(np.argmax(y_te,axis=1), np.argmax(y_pred,axis=1), target_names=classes)\n",
        "#print('GCN Classification Report: \\n {}'.format(report))"
      ]
    },
    {
      "cell_type": "code",
      "execution_count": 18,
      "metadata": {
        "id": "1yz_ovMc5D9Q"
      },
      "outputs": [],
      "source": [
        "\n",
        "\n",
        "# layer_outputs = [layer.output for layer in model.layers]\n",
        "# activation_model = Model(inputs=model.input, outputs=layer_outputs)\n",
        "# activations = activation_model.predict([X,A],batch_size=N)\n",
        "\n",
        "\n",
        "# x_tsne = TSNE(n_components=2).fit_transform(activations[3]) \n",
        "\n",
        "# def plot_tSNE(labels_encoded,x_tsne):\n",
        "#     color_map = np.argmax(labels_encoded, axis=1)\n",
        "#     plt.figure(figsize=(10,10))\n",
        "#     for cl in range(num_classes):\n",
        "#         indices = np.where(color_map==cl)\n",
        "#         indices = indices[0]\n",
        "#         plt.scatter(x_tsne[indices,0], x_tsne[indices, 1], label=cl)\n",
        "#     plt.legend()\n",
        "#     plt.show()\n",
        "    \n",
        "# plot_tSNE(labels_encoded,x_tsne)"
      ]
    },
    {
      "cell_type": "code",
      "execution_count": null,
      "metadata": {
        "id": "bHSti-Kb55HZ"
      },
      "outputs": [],
      "source": []
    }
  ],
  "metadata": {
    "colab": {
      "collapsed_sections": [],
      "name": "cora_gcn_helper.ipynb",
      "provenance": []
    },
    "kernelspec": {
      "display_name": "Python 3",
      "name": "python3"
    },
    "language_info": {
      "codemirror_mode": {
        "name": "ipython",
        "version": 3
      },
      "file_extension": ".py",
      "mimetype": "text/x-python",
      "name": "python",
      "nbconvert_exporter": "python",
      "pygments_lexer": "ipython3",
      "version": "3.12.2"
    }
  },
  "nbformat": 4,
  "nbformat_minor": 0
}
