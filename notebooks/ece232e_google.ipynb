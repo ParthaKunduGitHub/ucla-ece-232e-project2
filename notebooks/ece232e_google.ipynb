{
 "cells": [
  {
   "cell_type": "code",
   "execution_count": null,
   "metadata": {},
   "outputs": [],
   "source": [
    "file_path =\"../dataFiles/google/gplus/\" \n",
    "edge_files = list.files(path=file_path,pattern=\"edges\") \n",
    "circles_files = list.files(path=file_path,pattern=\"circles\")\n",
    "fts_files = list.files(path=file_path,pattern=\"feat\")\n",
    "initial_graph = list()\n",
    "final_graph = list()\n",
    "graph_circles = list()\n",
    "ego_nodes = list()"
   ]
  },
  {
   "cell_type": "code",
   "execution_count": 3,
   "metadata": {
    "ExecuteTime": {
     "end_time": "2024-07-24T23:38:57.717132Z",
     "start_time": "2024-07-24T23:37:55.304166Z"
    }
   },
   "outputs": [
    {
     "name": "stderr",
     "output_type": "stream",
     "text": [
      "Installing package into ‘/opt/homebrew/lib/R/4.4/site-library’\n",
      "(as ‘lib’ is unspecified)\n",
      "\n"
     ]
    }
   ],
   "source": [
    "install.packages(\"igraph\")"
   ]
  },
  {
   "cell_type": "code",
   "execution_count": 4,
   "metadata": {
    "ExecuteTime": {
     "end_time": "2024-07-24T23:39:08.663345Z",
     "start_time": "2024-07-24T23:39:08.630089Z"
    }
   },
   "outputs": [
    {
     "ename": "ERROR",
     "evalue": "Error in read.graph(paste(file_path, edge_files[i], sep = \"\"), format = \"ncol\", : could not find function \"read.graph\"\n",
     "output_type": "error",
     "traceback": [
      "Error in read.graph(paste(file_path, edge_files[i], sep = \"\"), format = \"ncol\", : could not find function \"read.graph\"\nTraceback:\n"
     ]
    }
   ],
   "source": [
    "cnt = 0\n",
    "node_names = c()\n",
    "for(i in 1:length(edge_files)){\n",
    "    # get node id\n",
    "    node = strsplit(edge_files[i],\".edges\")[[1]]\n",
    "    node_names <-c(node_names,node)\n",
    "    #print(node)\n",
    "    ego_nodes[i] = node\n",
    "    fc = file(paste(file_path,node,\".circles\",sep=\"\"),open=\"r\") \n",
    "    if(length(fc)>0){\n",
    "        file_lines <- readLines(fc)\n",
    "        if(length(file_lines)>0){\n",
    "            circles =list()\n",
    "            for(j in 1:length(file_lines)){\n",
    "                circle_users = strsplit(file_lines[j],\"\\t\")\n",
    "                circles[[j]] <- circle_users[[1]][-1]\n",
    "              }\n",
    "            # find users who have more than 2 circles\n",
    "            if(length(circles)>2){\n",
    "                cnt = cnt + 1\n",
    "                initial_graph[[i]] <- read.graph(paste(file_path,edge_files[i],sep=\"\"),format=\"ncol\",directed=TRUE)\n",
    "                graph_circles[[i]] <- circles\n",
    "                graph_nodes <- V(initial_graph[[i]])\n",
    "                print(length(graph_nodes))\n",
    "                print(node)\n",
    "                # add the core node to his neighbor list and construct the graph\n",
    "                final_graph[[i]] <- add.vertices(initial_graph[[i]],1,name=node)\n",
    "                core_index = which(V(final_graph[[i]])$name==node) \n",
    "                core_node_edges = list()\n",
    "                ### add edges connecting to this core node\n",
    "                for(k in 1:length(graph_nodes)){\n",
    "                    core_node_edges = c(core_node_edges, c(core_index, k))\n",
    "                }\n",
    "                final_graph[[i]] <- add.edges(final_graph[[i]],core_node_edges)\n",
    "            } \n",
    "        }\n",
    "    }\n",
    "    close(fc)\n",
    "}"
   ]
  },
  {
   "cell_type": "code",
   "execution_count": 6,
   "metadata": {
    "ExecuteTime": {
     "end_time": "2024-07-24T23:39:57.057955Z",
     "start_time": "2024-07-24T23:39:57.051383Z"
    }
   },
   "outputs": [
    {
     "name": "stdout",
     "output_type": "stream",
     "text": [
      "there are  132 nodes and there are  1 personal networks"
     ]
    }
   ],
   "source": [
    "#q18\n",
    "cat(\"there are \", length(edge_files),\"nodes and there are \",cnt,\"personal networks\" )"
   ]
  },
  {
   "cell_type": "code",
   "execution_count": 7,
   "metadata": {
    "ExecuteTime": {
     "end_time": "2024-07-24T23:40:00.416486Z",
     "start_time": "2024-07-24T23:40:00.401695Z"
    }
   },
   "outputs": [
    {
     "name": "stdout",
     "output_type": "stream",
     "text": [
      "integer(0)\n"
     ]
    },
    {
     "ename": "ERROR",
     "evalue": "Error in final_graph[[graph_ind]]: attempt to select less than one element in get1index\n",
     "output_type": "error",
     "traceback": [
      "Error in final_graph[[graph_ind]]: attempt to select less than one element in get1index\nTraceback:\n"
     ]
    }
   ],
   "source": [
    "#q19 \n",
    "interest_node = c('109327480479767108490', '115625564993990145546','101373961279443806744')\n",
    "graph_inds = c()\n",
    "for (i in 1: length(interest_node)){\n",
    "    graph_ind <- which(node_names==interest_node[i])\n",
    "    graph_inds <- c(graph_inds, graph_ind)\n",
    "    print(graph_ind)\n",
    "    tmp_graph = final_graph[[graph_ind]]\n",
    "    hist(degree(tmp_graph, mode=\"in\"),main = paste(\"in degree for \", interest_node[i]))\n",
    "    hist(degree(tmp_graph, mode=\"out\"),main = paste(\"out degree for \", interest_node[i]))\n",
    "}\n"
   ]
  },
  {
   "cell_type": "code",
   "execution_count": null,
   "metadata": {},
   "outputs": [],
   "source": [
    "#q20 \n",
    "#https://igraph.org/r/doc/cluster_walktrap.html\n"
   ]
  },
  {
   "cell_type": "code",
   "execution_count": null,
   "metadata": {},
   "outputs": [],
   "source": [
    "# libraries are allowed. try to do without libraries?  "
   ]
  }
 ],
 "metadata": {
  "colab": {
   "name": "ece232e_google.ipynb",
   "provenance": []
  },
  "kernelspec": {
   "display_name": ".venv",
   "language": "python",
   "name": "python3"
  },
  "language_info": {
   "codemirror_mode": {
    "name": "ipython",
    "version": 3
   },
   "file_extension": ".py",
   "mimetype": "text/x-python",
   "name": "python",
   "nbconvert_exporter": "python",
   "pygments_lexer": "ipython3",
   "version": "3.12.2"
  }
 },
 "nbformat": 4,
 "nbformat_minor": 0
}
