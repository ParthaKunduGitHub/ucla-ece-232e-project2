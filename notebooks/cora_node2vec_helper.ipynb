{
  "cells": [
    {
      "cell_type": "markdown",
      "metadata": {
        "id": "2xH6jxyU8j-9"
      },
      "source": [
        "# Node classification with Node2Vec\n"
      ]
    },
    {
      "cell_type": "code",
      "execution_count": 1,
      "metadata": {
        "colab": {
          "base_uri": "https://localhost:8080/"
        },
        "id": "2r6oP34c8j_S",
        "nbsphinx": "hidden",
        "outputId": "26d536f6-6dce-4410-d0fc-be0554776711",
        "tags": [
          "CloudRunner"
        ]
      },
      "outputs": [
        {
          "name": "stdout",
          "output_type": "stream",
          "text": [
            "\u001b[K     |████████████████████████████████| 435 kB 7.5 MB/s \n",
            "\u001b[K     |████████████████████████████████| 482 kB 24.1 MB/s \n",
            "\u001b[K     |████████████████████████████████| 462 kB 43.9 MB/s \n",
            "\u001b[K     |████████████████████████████████| 41 kB 203 kB/s \n",
            "\u001b[?25h  Building wheel for mplleaflet (setup.py) ... \u001b[?25l\u001b[?25hdone\n"
          ]
        }
      ],
      "source": [
        "# install StellarGraph if running on Google Colab\n",
        "import sys\n",
        "if 'google.colab' in sys.modules:\n",
        "  %pip install -q stellargraph[demos]==1.2.1 --ignore-requires-python"
      ]
    },
    {
      "cell_type": "code",
      "execution_count": 3,
      "metadata": {
        "id": "yhmTbjJc8j_Z"
      },
      "outputs": [],
      "source": [
        "import matplotlib.pyplot as plt\n",
        "\n",
        "from sklearn.manifold import TSNE\n",
        "from sklearn.model_selection import train_test_split\n",
        "from sklearn.linear_model import LogisticRegressionCV\n",
        "from sklearn.metrics import accuracy_score\n",
        "\n",
        "import os\n",
        "import networkx as nx\n",
        "import numpy as np\n",
        "import pandas as pd\n",
        "\n",
        "from stellargraph.data import BiasedRandomWalk\n",
        "from stellargraph import StellarGraph #feel free to use any other library of your choice\n",
        "from stellargraph import datasets\n",
        "from IPython.display import display, HTML\n",
        "\n",
        "%matplotlib inline"
      ]
    },
    {
      "cell_type": "code",
      "execution_count": 5,
      "metadata": {
        "colab": {
          "base_uri": "https://localhost:8080/",
          "height": 260
        },
        "id": "JKaZ0Y_t0Krz",
        "outputId": "1d71ec96-21bb-4c26-d317-690cb70efb2d"
      },
      "outputs": [
        {
          "data": {
            "text/html": [
              "The Cora dataset consists of 2708 scientific publications classified into one of seven classes. The citation network consists of 5429 links. Each publication in the dataset is described by a 0/1-valued word vector indicating the absence/presence of the corresponding word from the dictionary. The dictionary consists of 1433 unique words."
            ],
            "text/plain": [
              "<IPython.core.display.HTML object>"
            ]
          },
          "metadata": {},
          "output_type": "display_data"
        },
        {
          "name": "stdout",
          "output_type": "stream",
          "text": [
            "StellarGraph: Undirected multigraph\n",
            " Nodes: 2485, Edges: 5209\n",
            "\n",
            " Node types:\n",
            "  paper: [2485]\n",
            "    Features: float32 vector, length 1433\n",
            "    Edge types: paper-cites->paper\n",
            "\n",
            " Edge types:\n",
            "    paper-cites->paper: [5209]\n",
            "        Weights: all 1 (default)\n",
            "        Features: none\n"
          ]
        }
      ],
      "source": [
        "dataset = datasets.Cora()\n",
        "display(HTML(dataset.description))\n",
        "G, node_subjects = dataset.load(largest_connected_component_only=True)\n",
        "print(G.info())\n"
      ]
    },
    {
      "cell_type": "markdown",
      "metadata": {
        "id": "PjWs07kz0xWx"
      },
      "source": [
        "node2vec:"
      ]
    },
    {
      "cell_type": "code",
      "execution_count": null,
      "metadata": {
        "id": "rrcEFd_-8j_m"
      },
      "outputs": [],
      "source": [
        "# walks = get random walks using BiasedRandomWalk\n",
        "#experiment with the hyperparamenters \n",
        "\n"
      ]
    },
    {
      "cell_type": "code",
      "execution_count": 7,
      "metadata": {
        "id": "Xzkd65F58j_o"
      },
      "outputs": [],
      "source": [
        "# from gensim.models import Word2Vec\n",
        "\n",
        "# str_walks = [[str(n) for n in walk] for walk in walks]\n",
        "# model = Word2Vec(str_walks, ) #check which parameter are important"
      ]
    },
    {
      "cell_type": "code",
      "execution_count": null,
      "metadata": {
        "id": "lg_8-HrN8j_p"
      },
      "outputs": [],
      "source": [
        "# The embedding vectors can be retrieved from model.wv using the node ID as key.\n",
        "#model.wv[\"19231\"].shape"
      ]
    },
    {
      "cell_type": "markdown",
      "metadata": {
        "id": "zecMG6Fq0t_3"
      },
      "source": [
        "visualize"
      ]
    },
    {
      "cell_type": "code",
      "execution_count": null,
      "metadata": {
        "id": "gysGiF7v8j_r"
      },
      "outputs": [],
      "source": [
        "# Retrieve node embeddings and corresponding subjects\n",
        "node_ids = model.wv.index_to_key  # list of node IDs\n",
        "node_embeddings = (\n",
        "    model.wv.vectors\n",
        ")  # numpy.ndarray of size number of nodes times embeddings dimensionality\n",
        "node_targets = node_subjects[[int(node_id) for node_id in node_ids]]"
      ]
    },
    {
      "cell_type": "code",
      "execution_count": null,
      "metadata": {
        "colab": {
          "base_uri": "https://localhost:8080/"
        },
        "id": "VKqS-WJq8j_r",
        "outputId": "9eb2ae11-4bca-48f9-cc6c-ac1054ee767d"
      },
      "outputs": [
        {
          "name": "stderr",
          "output_type": "stream",
          "text": [
            "/usr/local/lib/python3.7/dist-packages/sklearn/manifold/_t_sne.py:783: FutureWarning: The default initialization in TSNE will change from 'random' to 'pca' in 1.2.\n",
            "  FutureWarning,\n",
            "/usr/local/lib/python3.7/dist-packages/sklearn/manifold/_t_sne.py:793: FutureWarning: The default learning rate in TSNE will change from 200.0 to 'auto' in 1.2.\n",
            "  FutureWarning,\n"
          ]
        }
      ],
      "source": [
        "# Apply t-SNE transformation on node embeddings\n",
        "tsne = TSNE(n_components=2)\n",
        "node_embeddings_2d = tsne.fit_transform(node_embeddings)"
      ]
    },
    {
      "cell_type": "code",
      "execution_count": null,
      "metadata": {
        "id": "N24CQ6TN8j_s"
      },
      "outputs": [],
      "source": [
        "# draw the points\n",
        "alpha = 0.7\n",
        "label_map = {l: i for i, l in enumerate(np.unique(node_targets))}\n",
        "node_colours = [label_map[target] for target in node_targets]\n",
        "\n",
        "plt.figure(figsize=(10, 8))\n",
        "plt.scatter(\n",
        "    node_embeddings_2d[:, 0],\n",
        "    node_embeddings_2d[:, 1],\n",
        "    c=node_colours,\n",
        "    cmap=\"jet\",\n",
        "    alpha=alpha,\n",
        ")"
      ]
    },
    {
      "cell_type": "markdown",
      "metadata": {
        "id": "C33CwLjn8j_t"
      },
      "source": [
        "CORA classification"
      ]
    },
    {
      "cell_type": "code",
      "execution_count": null,
      "metadata": {
        "id": "f-if2-Tc8j_u"
      },
      "outputs": [],
      "source": [
        "#X = None\n",
        "#y = None\n",
        "#split the data. use 140 examples in train set \n",
        "\n",
        "#clf = classifier, use kfold cross validation \n",
        "#clf.fit(X_train, y_train)\n",
        "#y_pred = clf.predict(X_test)\n",
        "\n",
        "#get accuracy, classification report"
      ]
    }
  ],
  "metadata": {
    "colab": {
      "collapsed_sections": [],
      "name": "cora_node2vec_helper.ipynb",
      "provenance": []
    },
    "kernelspec": {
      "display_name": "Python 3",
      "language": "python",
      "name": "python3"
    },
    "language_info": {
      "codemirror_mode": {
        "name": "ipython",
        "version": 3
      },
      "file_extension": ".py",
      "mimetype": "text/x-python",
      "name": "python",
      "nbconvert_exporter": "python",
      "pygments_lexer": "ipython3",
      "version": "3.12.2"
    }
  },
  "nbformat": 4,
  "nbformat_minor": 0
}
