{
  "cells": [
    {
      "cell_type": "code",
      "execution_count": 1,
      "metadata": {
        "colab": {
          "base_uri": "https://localhost:8080/"
        },
        "id": "WC5Rq99els1H",
        "outputId": "a4c56def-6bb8-4a0f-d9bc-c6c81b7adcc0"
      },
      "outputs": [
        {
          "name": "stdout",
          "output_type": "stream",
          "text": [
            "Archive:  cora (extract.me).zip\n",
            "  inflating: cora/README             \n",
            "  inflating: cora/cora.cites         \n",
            "  inflating: cora/cora.content       \n"
          ]
        }
      ],
      "source": [
        "import numpy as np\n",
        "import os\n",
        "import networkx as nx\n",
        "from sklearn.model_selection import train_test_split\n",
        "import pandas as pd\n",
        "from sklearn.metrics import accuracy_score\n",
        "from sklearn.metrics import classification_report\n",
        "from numpy import dot\n",
        "from numpy.linalg import norm\n",
        "\n",
        "\n",
        "from collections import Counter\n",
        "import matplotlib.pyplot as plt\n",
        "!unzip \"cora (extract.me).zip\"\n"
      ]
    },
    {
      "cell_type": "code",
      "execution_count": 3,
      "metadata": {
        "id": "x91rSYec3lQb"
      },
      "outputs": [],
      "source": [
        "all_data = []\n",
        "all_edges = []\n",
        "\n",
        "for root,dirs,files in os.walk('./cora'):\n",
        "    for file in files:\n",
        "        if '.content' in file:\n",
        "            with open(os.path.join(root,file),'r') as f:\n",
        "                all_data.extend(f.read().splitlines())\n",
        "        elif 'cites' in file:\n",
        "            with open(os.path.join(root,file),'r') as f:\n",
        "                all_edges.extend(f.read().splitlines())\n",
        "\n",
        "                \n",
        "#random_state = 42\n",
        "#all_data = shuffle(all_data,random_state=random_state)"
      ]
    },
    {
      "cell_type": "code",
      "execution_count": 4,
      "metadata": {
        "colab": {
          "base_uri": "https://localhost:8080/"
        },
        "id": "aS4GfV8pCPbF",
        "outputId": "91ec3fd2-0636-4ed4-8e58-6be408503779"
      },
      "outputs": [
        {
          "data": {
            "text/plain": [
              "{'Case_Based': 0,\n",
              " 'Genetic_Algorithms': 1,\n",
              " 'Neural_Networks': 2,\n",
              " 'Probabilistic_Methods': 3,\n",
              " 'Reinforcement_Learning': 4,\n",
              " 'Rule_Learning': 5,\n",
              " 'Theory': 6}"
            ]
          },
          "execution_count": 4,
          "metadata": {},
          "output_type": "execute_result"
        }
      ],
      "source": [
        "categories =  ['Reinforcement_Learning', 'Theory', 'Case_Based', 'Genetic_Algorithms', 'Probabilistic_Methods', 'Neural_Networks', 'Rule_Learning']\n",
        "sorted(categories)\n",
        "label_encoder = {}\n",
        "i = 0\n",
        "for cat in sorted(categories):\n",
        "  label_encoder[cat] = i\n",
        "  i +=1\n",
        "label_encoder\n"
      ]
    },
    {
      "cell_type": "code",
      "execution_count": 5,
      "metadata": {
        "colab": {
          "base_uri": "https://localhost:8080/"
        },
        "id": "yAK_lPbU4Rxo",
        "outputId": "a5e69cae-6ae9-414c-fb3a-40b91a59cb95"
      },
      "outputs": [
        {
          "name": "stdout",
          "output_type": "stream",
          "text": [
            "X shape:  (2708, 1433)\n",
            "\n",
            "Number of nodes (N):  2708\n",
            "\n",
            "Number of features (F) of each node:  1433\n",
            "\n",
            "Categories:  {0, 1, 2, 3, 4, 5, 6}\n",
            "\n",
            "Number of classes:  7\n"
          ]
        }
      ],
      "source": [
        "#parse the data\n",
        "labels = []\n",
        "nodes = []\n",
        "X = []\n",
        "element_to_ind  = {}\n",
        "\n",
        "for i,data in enumerate(all_data):\n",
        "    elements = data.split('\\t')\n",
        "    labels.append(label_encoder[elements[-1]])\n",
        "    X.append(elements[1:-1])\n",
        "    nodes.append(elements[0])\n",
        "    element_to_ind[elements[0]]= i\n",
        "X = np.array(X,dtype=int)\n",
        "N = X.shape[0] #the number of nodes\n",
        "F = X.shape[1] #the size of node features\n",
        "print('X shape: ', X.shape)\n",
        "\n",
        "\n",
        "#parse the edge\n",
        "edge_list=[]\n",
        "for edge in all_edges:\n",
        "    e = edge.split('\\t')\n",
        "    edge_list.append((e[0],e[1]))\n",
        "\n",
        "print('\\nNumber of nodes (N): ', N)\n",
        "print('\\nNumber of features (F) of each node: ', F)\n",
        "print('\\nCategories: ', set(labels))\n",
        "\n",
        "num_classes = len(set(labels))\n",
        "print('\\nNumber of classes: ', num_classes)\n"
      ]
    },
    {
      "cell_type": "code",
      "execution_count": 6,
      "metadata": {
        "colab": {
          "base_uri": "https://localhost:8080/"
        },
        "id": "Z3m0ubWRG1Yo",
        "outputId": "70467102-a822-44e2-de82-926836358c6a"
      },
      "outputs": [
        {
          "name": "stdout",
          "output_type": "stream",
          "text": [
            "Graph info:  Graph with 2708 nodes and 5278 edges\n"
          ]
        }
      ],
      "source": [
        "G = nx.Graph()\n",
        "G.add_nodes_from(nodes)\n",
        "G.add_edges_from(edge_list)\n",
        "G = nx.relabel_nodes(G, element_to_ind)\n",
        "print('Graph info: ', nx.info(G))"
      ]
    },
    {
      "cell_type": "code",
      "execution_count": 7,
      "metadata": {
        "colab": {
          "base_uri": "https://localhost:8080/"
        },
        "id": "m4sv0RttHH9_",
        "outputId": "6f849910-258c-4ba9-cd2d-1422217e351f"
      },
      "outputs": [
        {
          "name": "stdout",
          "output_type": "stream",
          "text": [
            "2708\n"
          ]
        },
        {
          "data": {
            "text/plain": [
              "[258, 544, 8, 435, 14]"
            ]
          },
          "execution_count": 7,
          "metadata": {},
          "output_type": "execute_result"
        }
      ],
      "source": [
        "nodes = list(G.nodes)\n",
        "print(len(nodes))\n",
        "list(G.neighbors(0))"
      ]
    },
    {
      "cell_type": "code",
      "execution_count": 8,
      "metadata": {
        "colab": {
          "base_uri": "https://localhost:8080/",
          "height": 223
        },
        "id": "6he3sYO8-kf_",
        "outputId": "36c76451-6552-4ede-ace0-4f14404eef84"
      },
      "outputs": [
        {
          "name": "stdout",
          "output_type": "stream",
          "text": [
            "2708\n"
          ]
        },
        {
          "data": {
            "text/html": [
              "\n",
              "  <div id=\"df-83f38ee5-dcde-4353-9f81-f29dc7deb599\">\n",
              "    <div class=\"colab-df-container\">\n",
              "      <div>\n",
              "<style scoped>\n",
              "    .dataframe tbody tr th:only-of-type {\n",
              "        vertical-align: middle;\n",
              "    }\n",
              "\n",
              "    .dataframe tbody tr th {\n",
              "        vertical-align: top;\n",
              "    }\n",
              "\n",
              "    .dataframe thead th {\n",
              "        text-align: right;\n",
              "    }\n",
              "</style>\n",
              "<table border=\"1\" class=\"dataframe\">\n",
              "  <thead>\n",
              "    <tr style=\"text-align: right;\">\n",
              "      <th></th>\n",
              "      <th>node</th>\n",
              "      <th>label</th>\n",
              "      <th>features</th>\n",
              "    </tr>\n",
              "  </thead>\n",
              "  <tbody>\n",
              "    <tr>\n",
              "      <th>0</th>\n",
              "      <td>0</td>\n",
              "      <td>2</td>\n",
              "      <td>[0, 0, 0, 0, 0, 0, 0, 0, 0, 0, 0, 0, 0, 0, 0, ...</td>\n",
              "    </tr>\n",
              "    <tr>\n",
              "      <th>1</th>\n",
              "      <td>1</td>\n",
              "      <td>5</td>\n",
              "      <td>[0, 0, 0, 0, 0, 0, 0, 0, 0, 0, 0, 0, 1, 0, 0, ...</td>\n",
              "    </tr>\n",
              "    <tr>\n",
              "      <th>2</th>\n",
              "      <td>2</td>\n",
              "      <td>4</td>\n",
              "      <td>[0, 0, 0, 0, 0, 0, 0, 0, 0, 0, 0, 0, 0, 0, 0, ...</td>\n",
              "    </tr>\n",
              "    <tr>\n",
              "      <th>3</th>\n",
              "      <td>3</td>\n",
              "      <td>4</td>\n",
              "      <td>[0, 0, 0, 0, 0, 0, 0, 0, 0, 0, 0, 0, 0, 0, 0, ...</td>\n",
              "    </tr>\n",
              "    <tr>\n",
              "      <th>4</th>\n",
              "      <td>4</td>\n",
              "      <td>3</td>\n",
              "      <td>[0, 0, 0, 0, 0, 0, 0, 0, 0, 0, 0, 0, 0, 0, 0, ...</td>\n",
              "    </tr>\n",
              "  </tbody>\n",
              "</table>\n",
              "</div>\n",
              "      <button class=\"colab-df-convert\" onclick=\"convertToInteractive('df-83f38ee5-dcde-4353-9f81-f29dc7deb599')\"\n",
              "              title=\"Convert this dataframe to an interactive table.\"\n",
              "              style=\"display:none;\">\n",
              "        \n",
              "  <svg xmlns=\"http://www.w3.org/2000/svg\" height=\"24px\"viewBox=\"0 0 24 24\"\n",
              "       width=\"24px\">\n",
              "    <path d=\"M0 0h24v24H0V0z\" fill=\"none\"/>\n",
              "    <path d=\"M18.56 5.44l.94 2.06.94-2.06 2.06-.94-2.06-.94-.94-2.06-.94 2.06-2.06.94zm-11 1L8.5 8.5l.94-2.06 2.06-.94-2.06-.94L8.5 2.5l-.94 2.06-2.06.94zm10 10l.94 2.06.94-2.06 2.06-.94-2.06-.94-.94-2.06-.94 2.06-2.06.94z\"/><path d=\"M17.41 7.96l-1.37-1.37c-.4-.4-.92-.59-1.43-.59-.52 0-1.04.2-1.43.59L10.3 9.45l-7.72 7.72c-.78.78-.78 2.05 0 2.83L4 21.41c.39.39.9.59 1.41.59.51 0 1.02-.2 1.41-.59l7.78-7.78 2.81-2.81c.8-.78.8-2.07 0-2.86zM5.41 20L4 18.59l7.72-7.72 1.47 1.35L5.41 20z\"/>\n",
              "  </svg>\n",
              "      </button>\n",
              "      \n",
              "  <style>\n",
              "    .colab-df-container {\n",
              "      display:flex;\n",
              "      flex-wrap:wrap;\n",
              "      gap: 12px;\n",
              "    }\n",
              "\n",
              "    .colab-df-convert {\n",
              "      background-color: #E8F0FE;\n",
              "      border: none;\n",
              "      border-radius: 50%;\n",
              "      cursor: pointer;\n",
              "      display: none;\n",
              "      fill: #1967D2;\n",
              "      height: 32px;\n",
              "      padding: 0 0 0 0;\n",
              "      width: 32px;\n",
              "    }\n",
              "\n",
              "    .colab-df-convert:hover {\n",
              "      background-color: #E2EBFA;\n",
              "      box-shadow: 0px 1px 2px rgba(60, 64, 67, 0.3), 0px 1px 3px 1px rgba(60, 64, 67, 0.15);\n",
              "      fill: #174EA6;\n",
              "    }\n",
              "\n",
              "    [theme=dark] .colab-df-convert {\n",
              "      background-color: #3B4455;\n",
              "      fill: #D2E3FC;\n",
              "    }\n",
              "\n",
              "    [theme=dark] .colab-df-convert:hover {\n",
              "      background-color: #434B5C;\n",
              "      box-shadow: 0px 1px 3px 1px rgba(0, 0, 0, 0.15);\n",
              "      filter: drop-shadow(0px 1px 2px rgba(0, 0, 0, 0.3));\n",
              "      fill: #FFFFFF;\n",
              "    }\n",
              "  </style>\n",
              "\n",
              "      <script>\n",
              "        const buttonEl =\n",
              "          document.querySelector('#df-83f38ee5-dcde-4353-9f81-f29dc7deb599 button.colab-df-convert');\n",
              "        buttonEl.style.display =\n",
              "          google.colab.kernel.accessAllowed ? 'block' : 'none';\n",
              "\n",
              "        async function convertToInteractive(key) {\n",
              "          const element = document.querySelector('#df-83f38ee5-dcde-4353-9f81-f29dc7deb599');\n",
              "          const dataTable =\n",
              "            await google.colab.kernel.invokeFunction('convertToInteractive',\n",
              "                                                     [key], {});\n",
              "          if (!dataTable) return;\n",
              "\n",
              "          const docLinkHtml = 'Like what you see? Visit the ' +\n",
              "            '<a target=\"_blank\" href=https://colab.research.google.com/notebooks/data_table.ipynb>data table notebook</a>'\n",
              "            + ' to learn more about interactive tables.';\n",
              "          element.innerHTML = '';\n",
              "          dataTable['output_type'] = 'display_data';\n",
              "          await google.colab.output.renderOutput(dataTable, element);\n",
              "          const docLink = document.createElement('div');\n",
              "          docLink.innerHTML = docLinkHtml;\n",
              "          element.appendChild(docLink);\n",
              "        }\n",
              "      </script>\n",
              "    </div>\n",
              "  </div>\n",
              "  "
            ],
            "text/plain": [
              "   node  label                                           features\n",
              "0     0      2  [0, 0, 0, 0, 0, 0, 0, 0, 0, 0, 0, 0, 0, 0, 0, ...\n",
              "1     1      5  [0, 0, 0, 0, 0, 0, 0, 0, 0, 0, 0, 0, 1, 0, 0, ...\n",
              "2     2      4  [0, 0, 0, 0, 0, 0, 0, 0, 0, 0, 0, 0, 0, 0, 0, ...\n",
              "3     3      4  [0, 0, 0, 0, 0, 0, 0, 0, 0, 0, 0, 0, 0, 0, 0, ...\n",
              "4     4      3  [0, 0, 0, 0, 0, 0, 0, 0, 0, 0, 0, 0, 0, 0, 0, ..."
            ]
          },
          "execution_count": 8,
          "metadata": {},
          "output_type": "execute_result"
        }
      ],
      "source": [
        "df = pd.DataFrame(list(zip(nodes, labels,X)),columns =['node', 'label','features'])\n",
        "print(len(df))\n",
        "df.head()"
      ]
    },
    {
      "cell_type": "code",
      "execution_count": 9,
      "metadata": {
        "id": "OzKIpJxu4t1R"
      },
      "outputs": [],
      "source": [
        "Gcc = sorted(nx.connected_components(G), key=len, reverse=True)\n",
        "G = G.subgraph(Gcc[0])\n",
        "gcc_nodes = list(G.nodes)"
      ]
    },
    {
      "cell_type": "code",
      "execution_count": 10,
      "metadata": {
        "colab": {
          "base_uri": "https://localhost:8080/",
          "height": 310
        },
        "id": "LGfGmfIfCagn",
        "outputId": "c9f1c127-3968-413c-dfe6-2d14d54aec85"
      },
      "outputs": [
        {
          "name": "stderr",
          "output_type": "stream",
          "text": [
            "/usr/local/lib/python3.7/dist-packages/ipykernel_launcher.py:2: SettingWithCopyWarning: \n",
            "A value is trying to be set on a copy of a slice from a DataFrame.\n",
            "Try using .loc[row_indexer,col_indexer] = value instead\n",
            "\n",
            "See the caveats in the documentation: https://pandas.pydata.org/pandas-docs/stable/user_guide/indexing.html#returning-a-view-versus-a-copy\n",
            "  \n"
          ]
        },
        {
          "data": {
            "text/html": [
              "\n",
              "  <div id=\"df-d9751082-23d4-4eff-b706-8b1e8710ccc4\">\n",
              "    <div class=\"colab-df-container\">\n",
              "      <div>\n",
              "<style scoped>\n",
              "    .dataframe tbody tr th:only-of-type {\n",
              "        vertical-align: middle;\n",
              "    }\n",
              "\n",
              "    .dataframe tbody tr th {\n",
              "        vertical-align: top;\n",
              "    }\n",
              "\n",
              "    .dataframe thead th {\n",
              "        text-align: right;\n",
              "    }\n",
              "</style>\n",
              "<table border=\"1\" class=\"dataframe\">\n",
              "  <thead>\n",
              "    <tr style=\"text-align: right;\">\n",
              "      <th></th>\n",
              "      <th>node</th>\n",
              "      <th>label</th>\n",
              "      <th>features</th>\n",
              "    </tr>\n",
              "  </thead>\n",
              "  <tbody>\n",
              "    <tr>\n",
              "      <th>0</th>\n",
              "      <td>0</td>\n",
              "      <td>2</td>\n",
              "      <td>[0, 0, 0, 0, 0, 0, 0, 0, 0, 0, 0, 0, 0, 0, 0, ...</td>\n",
              "    </tr>\n",
              "    <tr>\n",
              "      <th>1</th>\n",
              "      <td>1</td>\n",
              "      <td>5</td>\n",
              "      <td>[0, 0, 0, 0, 0, 0, 0, 0, 0, 0, 0, 0, 1, 0, 0, ...</td>\n",
              "    </tr>\n",
              "    <tr>\n",
              "      <th>2</th>\n",
              "      <td>2</td>\n",
              "      <td>4</td>\n",
              "      <td>[0, 0, 0, 0, 0, 0, 0, 0, 0, 0, 0, 0, 0, 0, 0, ...</td>\n",
              "    </tr>\n",
              "    <tr>\n",
              "      <th>3</th>\n",
              "      <td>3</td>\n",
              "      <td>4</td>\n",
              "      <td>[0, 0, 0, 0, 0, 0, 0, 0, 0, 0, 0, 0, 0, 0, 0, ...</td>\n",
              "    </tr>\n",
              "    <tr>\n",
              "      <th>4</th>\n",
              "      <td>4</td>\n",
              "      <td>3</td>\n",
              "      <td>[0, 0, 0, 0, 0, 0, 0, 0, 0, 0, 0, 0, 0, 0, 0, ...</td>\n",
              "    </tr>\n",
              "  </tbody>\n",
              "</table>\n",
              "</div>\n",
              "      <button class=\"colab-df-convert\" onclick=\"convertToInteractive('df-d9751082-23d4-4eff-b706-8b1e8710ccc4')\"\n",
              "              title=\"Convert this dataframe to an interactive table.\"\n",
              "              style=\"display:none;\">\n",
              "        \n",
              "  <svg xmlns=\"http://www.w3.org/2000/svg\" height=\"24px\"viewBox=\"0 0 24 24\"\n",
              "       width=\"24px\">\n",
              "    <path d=\"M0 0h24v24H0V0z\" fill=\"none\"/>\n",
              "    <path d=\"M18.56 5.44l.94 2.06.94-2.06 2.06-.94-2.06-.94-.94-2.06-.94 2.06-2.06.94zm-11 1L8.5 8.5l.94-2.06 2.06-.94-2.06-.94L8.5 2.5l-.94 2.06-2.06.94zm10 10l.94 2.06.94-2.06 2.06-.94-2.06-.94-.94-2.06-.94 2.06-2.06.94z\"/><path d=\"M17.41 7.96l-1.37-1.37c-.4-.4-.92-.59-1.43-.59-.52 0-1.04.2-1.43.59L10.3 9.45l-7.72 7.72c-.78.78-.78 2.05 0 2.83L4 21.41c.39.39.9.59 1.41.59.51 0 1.02-.2 1.41-.59l7.78-7.78 2.81-2.81c.8-.78.8-2.07 0-2.86zM5.41 20L4 18.59l7.72-7.72 1.47 1.35L5.41 20z\"/>\n",
              "  </svg>\n",
              "      </button>\n",
              "      \n",
              "  <style>\n",
              "    .colab-df-container {\n",
              "      display:flex;\n",
              "      flex-wrap:wrap;\n",
              "      gap: 12px;\n",
              "    }\n",
              "\n",
              "    .colab-df-convert {\n",
              "      background-color: #E8F0FE;\n",
              "      border: none;\n",
              "      border-radius: 50%;\n",
              "      cursor: pointer;\n",
              "      display: none;\n",
              "      fill: #1967D2;\n",
              "      height: 32px;\n",
              "      padding: 0 0 0 0;\n",
              "      width: 32px;\n",
              "    }\n",
              "\n",
              "    .colab-df-convert:hover {\n",
              "      background-color: #E2EBFA;\n",
              "      box-shadow: 0px 1px 2px rgba(60, 64, 67, 0.3), 0px 1px 3px 1px rgba(60, 64, 67, 0.15);\n",
              "      fill: #174EA6;\n",
              "    }\n",
              "\n",
              "    [theme=dark] .colab-df-convert {\n",
              "      background-color: #3B4455;\n",
              "      fill: #D2E3FC;\n",
              "    }\n",
              "\n",
              "    [theme=dark] .colab-df-convert:hover {\n",
              "      background-color: #434B5C;\n",
              "      box-shadow: 0px 1px 3px 1px rgba(0, 0, 0, 0.15);\n",
              "      filter: drop-shadow(0px 1px 2px rgba(0, 0, 0, 0.3));\n",
              "      fill: #FFFFFF;\n",
              "    }\n",
              "  </style>\n",
              "\n",
              "      <script>\n",
              "        const buttonEl =\n",
              "          document.querySelector('#df-d9751082-23d4-4eff-b706-8b1e8710ccc4 button.colab-df-convert');\n",
              "        buttonEl.style.display =\n",
              "          google.colab.kernel.accessAllowed ? 'block' : 'none';\n",
              "\n",
              "        async function convertToInteractive(key) {\n",
              "          const element = document.querySelector('#df-d9751082-23d4-4eff-b706-8b1e8710ccc4');\n",
              "          const dataTable =\n",
              "            await google.colab.kernel.invokeFunction('convertToInteractive',\n",
              "                                                     [key], {});\n",
              "          if (!dataTable) return;\n",
              "\n",
              "          const docLinkHtml = 'Like what you see? Visit the ' +\n",
              "            '<a target=\"_blank\" href=https://colab.research.google.com/notebooks/data_table.ipynb>data table notebook</a>'\n",
              "            + ' to learn more about interactive tables.';\n",
              "          element.innerHTML = '';\n",
              "          dataTable['output_type'] = 'display_data';\n",
              "          await google.colab.output.renderOutput(dataTable, element);\n",
              "          const docLink = document.createElement('div');\n",
              "          docLink.innerHTML = docLinkHtml;\n",
              "          element.appendChild(docLink);\n",
              "        }\n",
              "      </script>\n",
              "    </div>\n",
              "  </div>\n",
              "  "
            ],
            "text/plain": [
              "   node  label                                           features\n",
              "0     0      2  [0, 0, 0, 0, 0, 0, 0, 0, 0, 0, 0, 0, 0, 0, 0, ...\n",
              "1     1      5  [0, 0, 0, 0, 0, 0, 0, 0, 0, 0, 0, 0, 1, 0, 0, ...\n",
              "2     2      4  [0, 0, 0, 0, 0, 0, 0, 0, 0, 0, 0, 0, 0, 0, 0, ...\n",
              "3     3      4  [0, 0, 0, 0, 0, 0, 0, 0, 0, 0, 0, 0, 0, 0, 0, ...\n",
              "4     4      3  [0, 0, 0, 0, 0, 0, 0, 0, 0, 0, 0, 0, 0, 0, 0, ..."
            ]
          },
          "execution_count": 10,
          "metadata": {},
          "output_type": "execute_result"
        }
      ],
      "source": [
        "df = df.loc[df['node'].isin(gcc_nodes)]\n",
        "df['node'] = list(range(len(df))) #rename nodes \n",
        "df.head()"
      ]
    },
    {
      "cell_type": "code",
      "execution_count": 12,
      "metadata": {
        "id": "eTFmrdSkFbkC"
      },
      "outputs": [],
      "source": [
        "train = df.groupby('label', group_keys=False).apply(lambda x: x.sample(20))\n",
        "G = nx.relabel_nodes(G, df['node'])"
      ]
    },
    {
      "cell_type": "code",
      "execution_count": 13,
      "metadata": {
        "id": "-TbwmeDAoMyg"
      },
      "outputs": [],
      "source": [
        "def create_transition_matrix(g):\n",
        "    vs = list(g.nodes)\n",
        "    n = len(vs)\n",
        "    adj = nx.adjacency_matrix(g)\n",
        "    transition_matrix = adj/adj.sum(axis=1)\n",
        "\n",
        "    return transition_matrix"
      ]
    },
    {
      "cell_type": "code",
      "execution_count": 14,
      "metadata": {
        "id": "L2Nq1801raPj"
      },
      "outputs": [],
      "source": [
        "def random_walk(g, num_steps, start_node, transition_matrix = None):\n",
        "  if transition_matrix is None:\n",
        "    transition_matrix = create_transition_matrix(g)\n",
        "  #perform a random walk \n",
        "  #return v\n"
      ]
    },
    {
      "cell_type": "code",
      "execution_count": 16,
      "metadata": {
        "id": "spCD5MySNj12"
      },
      "outputs": [],
      "source": [
        "seeds_dict = {predicted:list(train[train['label'] == predicted]['node']) for predicted in range(7)}\n",
        "\n",
        "def random_walk_with_teleportation(g, num_steps, start_node,tp,predicted, transition_matrix = None):\n",
        "  #modify random walk code to add teleportation.\n",
        "  #you can only teleport to a node belonging to the same class as the start node\n",
        "\n",
        "\n",
        "  #return v\n"
      ]
    },
    {
      "cell_type": "code",
      "execution_count": null,
      "metadata": {
        "id": "bHSti-Kb55HZ"
      },
      "outputs": [],
      "source": [
        "#pagerank. NO teleportation, NO tfidf. \n",
        "transition_matrix = create_transition_matrix(G)\n",
        "\n",
        "num_samples = 1000  \n",
        "num_walk_steps = 100\n",
        "\n",
        "visiting_freq_label = []\n",
        "for i in range(transition_matrix.shape[0]):\n",
        "  visiting_freq_label.append([0,0,0,0,0,0,0])\n",
        "\n",
        "visiting_freq = [0 for i in range(transition_matrix.shape[0])]\n",
        "\n",
        "\n",
        "for train_node,predicted in zip(train['node'],train['label']):\n",
        "  #print (train_node,predicted)\n",
        "  for i in range(num_samples):\n",
        "      start_point = train_node\n",
        "      end_node = random_walk(G, num_walk_steps, start_point, transition_matrix)\n",
        "      visiting_freq_label[end_node][predicted] += 1\n",
        "      visiting_freq[end_node] +=1"
      ]
    },
    {
      "cell_type": "code",
      "execution_count": null,
      "metadata": {
        "id": "-br2DAZUKhe1"
      },
      "outputs": [],
      "source": [
        "count = 0 #these many nodes remain unvisited. \n",
        "for vf in visiting_freq:\n",
        "  if vf ==0:\n",
        "    count+=1\n",
        "print('unvisited = ', count)\n",
        "visiting_freq_label = np.asarray(visiting_freq_label)\n",
        "preds = np.argmax(visiting_freq_label,axis = 1)\n",
        "print(classification_report(df['label'], preds))\n",
        "accuracy_score(df['label'], preds)"
      ]
    },
    {
      "cell_type": "code",
      "execution_count": null,
      "metadata": {
        "id": "LL7DHNaNM1E0"
      },
      "outputs": [],
      "source": [
        "#pagerank. WITH telportation, without tfidf \n",
        "\n",
        "#repeat above expeiment but this time use the teleportation random walk \n",
        "\n",
        "#get metrics\n"
      ]
    },
    {
      "cell_type": "code",
      "execution_count": null,
      "metadata": {
        "id": "qAE5ZH3vWdD0"
      },
      "outputs": [],
      "source": [
        "vs = list(G.nodes)\n",
        "n = len(vs)\n",
        "adj = nx.adjacency_matrix(G)\n",
        "transition = np.zeros((len(G.nodes), len(G.nodes)))\n",
        "\n",
        "#for n1 in nodes:\n",
        "  #for n2 in nodes:\n",
        "    # if there is an edge between n1 and n2:\n",
        "      # cos_sim = compute cosine similarity between features of n1 and n2\n",
        "      # transition[n1,n2] = np.exp(cos_sim) #neumerator of softmax. #why do we need softmax?  \n",
        "#divide the values in transition by denominator of softmax. how will you do this? \n"
      ]
    },
    {
      "cell_type": "code",
      "execution_count": null,
      "metadata": {
        "id": "CK9fLkhBwjZI"
      },
      "outputs": [],
      "source": [
        "#pagerank. Without teleportation. WITH TFIDF \n",
        "transition_matrix = transition\n",
        "\n",
        "#perfrom pagerank using our tf_idf based transition matrix\n",
        "#use randon walk without teleporation \n",
        "#get metrics\n"
      ]
    },
    {
      "cell_type": "code",
      "execution_count": null,
      "metadata": {
        "id": "po-lfoxJrJ51"
      },
      "outputs": [],
      "source": [
        "#pagerank. WITH teleportation WITH TFIDF\n",
        "transition_matrix = transition\n",
        "\n",
        "#same as above, except use random walk with teleportation \n",
        "#get metrics\n"
      ]
    },
    {
      "cell_type": "code",
      "execution_count": null,
      "metadata": {
        "id": "YlMOCxB5w6Ec"
      },
      "outputs": [],
      "source": []
    }
  ],
  "metadata": {
    "colab": {
      "collapsed_sections": [],
      "name": "cora_pagerank_helper.ipynb",
      "provenance": []
    },
    "kernelspec": {
      "display_name": "Python 3",
      "name": "python3"
    },
    "language_info": {
      "name": "python"
    }
  },
  "nbformat": 4,
  "nbformat_minor": 0
}
